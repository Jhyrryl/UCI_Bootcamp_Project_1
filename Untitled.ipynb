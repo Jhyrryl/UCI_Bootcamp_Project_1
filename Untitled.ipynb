{
 "cells": [
  {
   "cell_type": "markdown",
   "metadata": {},
   "source": [
    "# Data Analysis Summary\n",
    "\n",
    "In the initial analysis of the data we expected California to have more accidents of every severity due to high population density. Based on the initial dataframe and bar graph of incident count, our data seemed to indicate this.\n",
    "![Total accident by state](Charts/IncidentCountDataframe.png)\n",
    "![Total accident by state](Charts/total_accidents_by_state.png)"
   ]
  },
  {
   "cell_type": "markdown",
   "metadata": {},
   "source": [
    "This can also be seen in the Heatmap analysis of the accidents, where most of California outshines all other states with its incident numbers.\n",
    "![Total accident by state](Charts/Heatmap.png)"
   ]
  },
  {
   "cell_type": "markdown",
   "metadata": {},
   "source": [
    "However, upon analysis of the average severity, it seems that the API does not include minor incidents for a majority of states, only major and critical which require a third party report (police, insurance, towing, etc.). \n",
    "![Total accident by state](Charts/Accidentcountbyseverity.PNG)"
   ]
  },
  {
   "cell_type": "markdown",
   "metadata": {},
   "source": [
    "After pruning the minor incidents and sorting by total major and critical incidents, we end up with this graph.\n",
    "![Total accident by state](Charts/breakdown_of_severe_accidents_by_state_sorted.png)"
   ]
  },
  {
   "cell_type": "markdown",
   "metadata": {},
   "source": [
    "From this we see that Florida and Illinois are the states with most accidents categorized as \"major\" and \"critical\".Since we do not know the disparity of “Critical” and “Major” incidents, we cannot confidently attach more weight to critical incidents, but in the event that \"critical\" events involve fatalities, we suggest Florida should have more road safety investments.\n"
   ]
  },
  {
   "cell_type": "markdown",
   "metadata": {},
   "source": []
  },
  {
   "cell_type": "markdown",
   "metadata": {},
   "source": [
    "We find another trend between time of day and number of incidents.\n",
    "![Total accident by state](Charts/total_accidents_by_hour.png)"
   ]
  },
  {
   "cell_type": "markdown",
   "metadata": {},
   "source": [
    "The times of day with most frequent accidents are the return commute and the “night life”. There was an initial expectation of increased accidents during the morning commute, but that trend is not seen.\n"
   ]
  }
 ],
 "metadata": {
  "kernelspec": {
   "display_name": "Python 3",
   "language": "python",
   "name": "python3"
  },
  "language_info": {
   "codemirror_mode": {
    "name": "ipython",
    "version": 3
   },
   "file_extension": ".py",
   "mimetype": "text/x-python",
   "name": "python",
   "nbconvert_exporter": "python",
   "pygments_lexer": "ipython3",
   "version": "3.7.3"
  }
 },
 "nbformat": 4,
 "nbformat_minor": 2
}
