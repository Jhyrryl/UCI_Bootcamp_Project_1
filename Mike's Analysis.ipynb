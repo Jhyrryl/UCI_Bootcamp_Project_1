{
 "cells": [
  {
   "cell_type": "markdown",
   "metadata": {},
   "source": [
    "# Mike's Jupyter Analysis"
   ]
  },
  {
   "cell_type": "code",
   "execution_count": 1,
   "metadata": {},
   "outputs": [],
   "source": [
    "import pandas as pd\n",
    "import matplotlib.pyplot as plt\n",
    "import json\n",
    "from collections import Counter"
   ]
  },
  {
   "cell_type": "code",
   "execution_count": 2,
   "metadata": {},
   "outputs": [
    {
     "data": {
      "text/html": [
       "<div>\n",
       "<style scoped>\n",
       "    .dataframe tbody tr th:only-of-type {\n",
       "        vertical-align: middle;\n",
       "    }\n",
       "\n",
       "    .dataframe tbody tr th {\n",
       "        vertical-align: top;\n",
       "    }\n",
       "\n",
       "    .dataframe thead th {\n",
       "        text-align: right;\n",
       "    }\n",
       "</style>\n",
       "<table border=\"1\" class=\"dataframe\">\n",
       "  <thead>\n",
       "    <tr style=\"text-align: right;\">\n",
       "      <th></th>\n",
       "      <th>ID</th>\n",
       "      <th>Criticality</th>\n",
       "      <th>Latitude</th>\n",
       "      <th>Longitude</th>\n",
       "      <th>Start_time</th>\n",
       "      <th>End_time</th>\n",
       "      <th>Duration_(seconds)</th>\n",
       "      <th>Vehicle_response</th>\n",
       "      <th>Road_closure</th>\n",
       "      <th>State</th>\n",
       "    </tr>\n",
       "  </thead>\n",
       "  <tbody>\n",
       "    <tr>\n",
       "      <td>0</td>\n",
       "      <td>100372617581716855</td>\n",
       "      <td>minor</td>\n",
       "      <td>33.162394</td>\n",
       "      <td>-87.549211</td>\n",
       "      <td>2019-10-02 03:55:07</td>\n",
       "      <td>2019-10-02 04:25:05</td>\n",
       "      <td>1798</td>\n",
       "      <td>False</td>\n",
       "      <td>False</td>\n",
       "      <td>Alabama</td>\n",
       "    </tr>\n",
       "    <tr>\n",
       "      <td>1</td>\n",
       "      <td>4320793649494536642</td>\n",
       "      <td>critical</td>\n",
       "      <td>32.754060</td>\n",
       "      <td>-86.511290</td>\n",
       "      <td>2019-10-03 18:00:28</td>\n",
       "      <td>2019-10-03 18:30:02</td>\n",
       "      <td>1774</td>\n",
       "      <td>False</td>\n",
       "      <td>True</td>\n",
       "      <td>Alabama</td>\n",
       "    </tr>\n",
       "    <tr>\n",
       "      <td>2</td>\n",
       "      <td>3256065817418550517</td>\n",
       "      <td>minor</td>\n",
       "      <td>32.927951</td>\n",
       "      <td>-86.654694</td>\n",
       "      <td>2019-10-04 04:31:07</td>\n",
       "      <td>2019-10-04 04:58:14</td>\n",
       "      <td>1627</td>\n",
       "      <td>False</td>\n",
       "      <td>False</td>\n",
       "      <td>Alabama</td>\n",
       "    </tr>\n",
       "    <tr>\n",
       "      <td>3</td>\n",
       "      <td>1126744531160346217</td>\n",
       "      <td>minor</td>\n",
       "      <td>34.820090</td>\n",
       "      <td>-86.971810</td>\n",
       "      <td>2019-10-01 18:52:32</td>\n",
       "      <td>2019-10-01 19:21:37</td>\n",
       "      <td>1745</td>\n",
       "      <td>False</td>\n",
       "      <td>False</td>\n",
       "      <td>Alabama</td>\n",
       "    </tr>\n",
       "    <tr>\n",
       "      <td>4</td>\n",
       "      <td>3246397121718058253</td>\n",
       "      <td>minor</td>\n",
       "      <td>34.933340</td>\n",
       "      <td>-86.773990</td>\n",
       "      <td>2019-10-03 17:31:07</td>\n",
       "      <td>2019-10-03 17:59:27</td>\n",
       "      <td>1700</td>\n",
       "      <td>False</td>\n",
       "      <td>False</td>\n",
       "      <td>Alabama</td>\n",
       "    </tr>\n",
       "  </tbody>\n",
       "</table>\n",
       "</div>"
      ],
      "text/plain": [
       "                    ID Criticality   Latitude  Longitude          Start_time  \\\n",
       "0   100372617581716855       minor  33.162394 -87.549211 2019-10-02 03:55:07   \n",
       "1  4320793649494536642    critical  32.754060 -86.511290 2019-10-03 18:00:28   \n",
       "2  3256065817418550517       minor  32.927951 -86.654694 2019-10-04 04:31:07   \n",
       "3  1126744531160346217       minor  34.820090 -86.971810 2019-10-01 18:52:32   \n",
       "4  3246397121718058253       minor  34.933340 -86.773990 2019-10-03 17:31:07   \n",
       "\n",
       "             End_time  Duration_(seconds)  Vehicle_response  Road_closure  \\\n",
       "0 2019-10-02 04:25:05                1798             False         False   \n",
       "1 2019-10-03 18:30:02                1774             False          True   \n",
       "2 2019-10-04 04:58:14                1627             False         False   \n",
       "3 2019-10-01 19:21:37                1745             False         False   \n",
       "4 2019-10-03 17:59:27                1700             False         False   \n",
       "\n",
       "     State  \n",
       "0  Alabama  \n",
       "1  Alabama  \n",
       "2  Alabama  \n",
       "3  Alabama  \n",
       "4  Alabama  "
      ]
     },
     "execution_count": 2,
     "metadata": {},
     "output_type": "execute_result"
    }
   ],
   "source": [
    "accident_data_path = 'Resources/CleanedData.json'\n",
    "acc_df = pd.read_json(accident_data_path)\n",
    "acc_df.head()"
   ]
  },
  {
   "cell_type": "code",
   "execution_count": 3,
   "metadata": {},
   "outputs": [
    {
     "data": {
      "text/html": [
       "<div>\n",
       "<style scoped>\n",
       "    .dataframe tbody tr th:only-of-type {\n",
       "        vertical-align: middle;\n",
       "    }\n",
       "\n",
       "    .dataframe tbody tr th {\n",
       "        vertical-align: top;\n",
       "    }\n",
       "\n",
       "    .dataframe thead th {\n",
       "        text-align: right;\n",
       "    }\n",
       "</style>\n",
       "<table border=\"1\" class=\"dataframe\">\n",
       "  <thead>\n",
       "    <tr style=\"text-align: right;\">\n",
       "      <th></th>\n",
       "      <th>Population</th>\n",
       "      <th>Density</th>\n",
       "    </tr>\n",
       "    <tr>\n",
       "      <th>State</th>\n",
       "      <th></th>\n",
       "      <th></th>\n",
       "    </tr>\n",
       "  </thead>\n",
       "  <tbody>\n",
       "    <tr>\n",
       "      <td>Alabama</td>\n",
       "      <td>4898246</td>\n",
       "      <td>97</td>\n",
       "    </tr>\n",
       "    <tr>\n",
       "      <td>Alaska</td>\n",
       "      <td>735720</td>\n",
       "      <td>1</td>\n",
       "    </tr>\n",
       "    <tr>\n",
       "      <td>Arizona</td>\n",
       "      <td>7275070</td>\n",
       "      <td>64</td>\n",
       "    </tr>\n",
       "    <tr>\n",
       "      <td>Arkansas</td>\n",
       "      <td>3026412</td>\n",
       "      <td>58</td>\n",
       "    </tr>\n",
       "    <tr>\n",
       "      <td>California</td>\n",
       "      <td>39747267</td>\n",
       "      <td>255</td>\n",
       "    </tr>\n",
       "  </tbody>\n",
       "</table>\n",
       "</div>"
      ],
      "text/plain": [
       "            Population  Density\n",
       "State                          \n",
       "Alabama        4898246       97\n",
       "Alaska          735720        1\n",
       "Arizona        7275070       64\n",
       "Arkansas       3026412       58\n",
       "California    39747267      255"
      ]
     },
     "execution_count": 3,
     "metadata": {},
     "output_type": "execute_result"
    }
   ],
   "source": [
    "population_data_path = 'Resources/state_population.csv'\n",
    "pop_df = pd.read_csv(population_data_path)\n",
    "pop_df.set_index('State', inplace=True)\n",
    "pop_df.sort_values(by='State', inplace=True)\n",
    "pop_df.head()"
   ]
  },
  {
   "cell_type": "code",
   "execution_count": 4,
   "metadata": {},
   "outputs": [
    {
     "data": {
      "text/html": [
       "<div>\n",
       "<style scoped>\n",
       "    .dataframe tbody tr th:only-of-type {\n",
       "        vertical-align: middle;\n",
       "    }\n",
       "\n",
       "    .dataframe tbody tr th {\n",
       "        vertical-align: top;\n",
       "    }\n",
       "\n",
       "    .dataframe thead th {\n",
       "        text-align: right;\n",
       "    }\n",
       "</style>\n",
       "<table border=\"1\" class=\"dataframe\">\n",
       "  <thead>\n",
       "    <tr style=\"text-align: right;\">\n",
       "      <th></th>\n",
       "      <th>Population</th>\n",
       "      <th>Density</th>\n",
       "      <th>Area</th>\n",
       "    </tr>\n",
       "    <tr>\n",
       "      <th>State</th>\n",
       "      <th></th>\n",
       "      <th></th>\n",
       "      <th></th>\n",
       "    </tr>\n",
       "  </thead>\n",
       "  <tbody>\n",
       "    <tr>\n",
       "      <td>Alabama</td>\n",
       "      <td>4898246</td>\n",
       "      <td>97</td>\n",
       "      <td>50497.381443</td>\n",
       "    </tr>\n",
       "    <tr>\n",
       "      <td>Alaska</td>\n",
       "      <td>735720</td>\n",
       "      <td>1</td>\n",
       "      <td>735720.000000</td>\n",
       "    </tr>\n",
       "    <tr>\n",
       "      <td>Arizona</td>\n",
       "      <td>7275070</td>\n",
       "      <td>64</td>\n",
       "      <td>113672.968750</td>\n",
       "    </tr>\n",
       "    <tr>\n",
       "      <td>Arkansas</td>\n",
       "      <td>3026412</td>\n",
       "      <td>58</td>\n",
       "      <td>52179.517241</td>\n",
       "    </tr>\n",
       "    <tr>\n",
       "      <td>California</td>\n",
       "      <td>39747267</td>\n",
       "      <td>255</td>\n",
       "      <td>155871.635294</td>\n",
       "    </tr>\n",
       "  </tbody>\n",
       "</table>\n",
       "</div>"
      ],
      "text/plain": [
       "            Population  Density           Area\n",
       "State                                         \n",
       "Alabama        4898246       97   50497.381443\n",
       "Alaska          735720        1  735720.000000\n",
       "Arizona        7275070       64  113672.968750\n",
       "Arkansas       3026412       58   52179.517241\n",
       "California    39747267      255  155871.635294"
      ]
     },
     "execution_count": 4,
     "metadata": {},
     "output_type": "execute_result"
    }
   ],
   "source": [
    "pop_df['Area'] = pop_df['Population'] / pop_df['Density']\n",
    "pop_df.head()"
   ]
  },
  {
   "cell_type": "code",
   "execution_count": 5,
   "metadata": {
    "scrolled": true
   },
   "outputs": [
    {
     "data": {
      "text/plain": [
       "<pandas.core.groupby.generic.DataFrameGroupBy object at 0x000001A512720888>"
      ]
     },
     "execution_count": 5,
     "metadata": {},
     "output_type": "execute_result"
    }
   ],
   "source": [
    "state_groups = acc_df.groupby(['State'])\n",
    "state_groups"
   ]
  },
  {
   "cell_type": "code",
   "execution_count": 6,
   "metadata": {},
   "outputs": [
    {
     "data": {
      "text/html": [
       "<div>\n",
       "<style scoped>\n",
       "    .dataframe tbody tr th:only-of-type {\n",
       "        vertical-align: middle;\n",
       "    }\n",
       "\n",
       "    .dataframe tbody tr th {\n",
       "        vertical-align: top;\n",
       "    }\n",
       "\n",
       "    .dataframe thead th {\n",
       "        text-align: right;\n",
       "    }\n",
       "</style>\n",
       "<table border=\"1\" class=\"dataframe\">\n",
       "  <thead>\n",
       "    <tr style=\"text-align: right;\">\n",
       "      <th></th>\n",
       "      <th>Population</th>\n",
       "      <th>Density</th>\n",
       "      <th>Area</th>\n",
       "      <th>Accidents</th>\n",
       "    </tr>\n",
       "    <tr>\n",
       "      <th>State</th>\n",
       "      <th></th>\n",
       "      <th></th>\n",
       "      <th></th>\n",
       "      <th></th>\n",
       "    </tr>\n",
       "  </thead>\n",
       "  <tbody>\n",
       "    <tr>\n",
       "      <td>Alabama</td>\n",
       "      <td>4898246</td>\n",
       "      <td>97</td>\n",
       "      <td>50497.381443</td>\n",
       "      <td>9</td>\n",
       "    </tr>\n",
       "    <tr>\n",
       "      <td>Alaska</td>\n",
       "      <td>735720</td>\n",
       "      <td>1</td>\n",
       "      <td>735720.000000</td>\n",
       "      <td>0</td>\n",
       "    </tr>\n",
       "    <tr>\n",
       "      <td>Arizona</td>\n",
       "      <td>7275070</td>\n",
       "      <td>64</td>\n",
       "      <td>113672.968750</td>\n",
       "      <td>40</td>\n",
       "    </tr>\n",
       "    <tr>\n",
       "      <td>Arkansas</td>\n",
       "      <td>3026412</td>\n",
       "      <td>58</td>\n",
       "      <td>52179.517241</td>\n",
       "      <td>11</td>\n",
       "    </tr>\n",
       "    <tr>\n",
       "      <td>California</td>\n",
       "      <td>39747267</td>\n",
       "      <td>255</td>\n",
       "      <td>155871.635294</td>\n",
       "      <td>4550</td>\n",
       "    </tr>\n",
       "  </tbody>\n",
       "</table>\n",
       "</div>"
      ],
      "text/plain": [
       "            Population  Density           Area  Accidents\n",
       "State                                                    \n",
       "Alabama        4898246       97   50497.381443          9\n",
       "Alaska          735720        1  735720.000000          0\n",
       "Arizona        7275070       64  113672.968750         40\n",
       "Arkansas       3026412       58   52179.517241         11\n",
       "California    39747267      255  155871.635294       4550"
      ]
     },
     "execution_count": 6,
     "metadata": {},
     "output_type": "execute_result"
    }
   ],
   "source": [
    "state_group_counts = state_groups['ID'].count()\n",
    "state_counts = []\n",
    "\n",
    "for state in pop_df.index:\n",
    "    if state in state_group_counts:\n",
    "        state_counts.append(state_group_counts[state])\n",
    "    else:\n",
    "        state_counts.append(0)\n",
    "\n",
    "pop_df['Accidents'] = state_counts\n",
    "pop_df.head()"
   ]
  },
  {
   "cell_type": "code",
   "execution_count": 7,
   "metadata": {},
   "outputs": [
    {
     "data": {
      "text/html": [
       "<div>\n",
       "<style scoped>\n",
       "    .dataframe tbody tr th:only-of-type {\n",
       "        vertical-align: middle;\n",
       "    }\n",
       "\n",
       "    .dataframe tbody tr th {\n",
       "        vertical-align: top;\n",
       "    }\n",
       "\n",
       "    .dataframe thead th {\n",
       "        text-align: right;\n",
       "    }\n",
       "</style>\n",
       "<table border=\"1\" class=\"dataframe\">\n",
       "  <thead>\n",
       "    <tr style=\"text-align: right;\">\n",
       "      <th></th>\n",
       "      <th>ID</th>\n",
       "      <th>Criticality</th>\n",
       "      <th>Latitude</th>\n",
       "      <th>Longitude</th>\n",
       "      <th>Start_time</th>\n",
       "      <th>End_time</th>\n",
       "      <th>Duration_(seconds)</th>\n",
       "      <th>Vehicle_response</th>\n",
       "      <th>Road_closure</th>\n",
       "      <th>State</th>\n",
       "      <th>Crit_Value</th>\n",
       "    </tr>\n",
       "  </thead>\n",
       "  <tbody>\n",
       "    <tr>\n",
       "      <td>0</td>\n",
       "      <td>100372617581716855</td>\n",
       "      <td>minor</td>\n",
       "      <td>33.162394</td>\n",
       "      <td>-87.549211</td>\n",
       "      <td>2019-10-02 03:55:07</td>\n",
       "      <td>2019-10-02 04:25:05</td>\n",
       "      <td>1798</td>\n",
       "      <td>False</td>\n",
       "      <td>False</td>\n",
       "      <td>Alabama</td>\n",
       "      <td>2</td>\n",
       "    </tr>\n",
       "    <tr>\n",
       "      <td>1</td>\n",
       "      <td>4320793649494536642</td>\n",
       "      <td>critical</td>\n",
       "      <td>32.754060</td>\n",
       "      <td>-86.511290</td>\n",
       "      <td>2019-10-03 18:00:28</td>\n",
       "      <td>2019-10-03 18:30:02</td>\n",
       "      <td>1774</td>\n",
       "      <td>False</td>\n",
       "      <td>True</td>\n",
       "      <td>Alabama</td>\n",
       "      <td>0</td>\n",
       "    </tr>\n",
       "    <tr>\n",
       "      <td>2</td>\n",
       "      <td>3256065817418550517</td>\n",
       "      <td>minor</td>\n",
       "      <td>32.927951</td>\n",
       "      <td>-86.654694</td>\n",
       "      <td>2019-10-04 04:31:07</td>\n",
       "      <td>2019-10-04 04:58:14</td>\n",
       "      <td>1627</td>\n",
       "      <td>False</td>\n",
       "      <td>False</td>\n",
       "      <td>Alabama</td>\n",
       "      <td>2</td>\n",
       "    </tr>\n",
       "    <tr>\n",
       "      <td>3</td>\n",
       "      <td>1126744531160346217</td>\n",
       "      <td>minor</td>\n",
       "      <td>34.820090</td>\n",
       "      <td>-86.971810</td>\n",
       "      <td>2019-10-01 18:52:32</td>\n",
       "      <td>2019-10-01 19:21:37</td>\n",
       "      <td>1745</td>\n",
       "      <td>False</td>\n",
       "      <td>False</td>\n",
       "      <td>Alabama</td>\n",
       "      <td>2</td>\n",
       "    </tr>\n",
       "    <tr>\n",
       "      <td>4</td>\n",
       "      <td>3246397121718058253</td>\n",
       "      <td>minor</td>\n",
       "      <td>34.933340</td>\n",
       "      <td>-86.773990</td>\n",
       "      <td>2019-10-03 17:31:07</td>\n",
       "      <td>2019-10-03 17:59:27</td>\n",
       "      <td>1700</td>\n",
       "      <td>False</td>\n",
       "      <td>False</td>\n",
       "      <td>Alabama</td>\n",
       "      <td>2</td>\n",
       "    </tr>\n",
       "  </tbody>\n",
       "</table>\n",
       "</div>"
      ],
      "text/plain": [
       "                    ID Criticality   Latitude  Longitude          Start_time  \\\n",
       "0   100372617581716855       minor  33.162394 -87.549211 2019-10-02 03:55:07   \n",
       "1  4320793649494536642    critical  32.754060 -86.511290 2019-10-03 18:00:28   \n",
       "2  3256065817418550517       minor  32.927951 -86.654694 2019-10-04 04:31:07   \n",
       "3  1126744531160346217       minor  34.820090 -86.971810 2019-10-01 18:52:32   \n",
       "4  3246397121718058253       minor  34.933340 -86.773990 2019-10-03 17:31:07   \n",
       "\n",
       "             End_time  Duration_(seconds)  Vehicle_response  Road_closure  \\\n",
       "0 2019-10-02 04:25:05                1798             False         False   \n",
       "1 2019-10-03 18:30:02                1774             False          True   \n",
       "2 2019-10-04 04:58:14                1627             False         False   \n",
       "3 2019-10-01 19:21:37                1745             False         False   \n",
       "4 2019-10-03 17:59:27                1700             False         False   \n",
       "\n",
       "     State  Crit_Value  \n",
       "0  Alabama           2  \n",
       "1  Alabama           0  \n",
       "2  Alabama           2  \n",
       "3  Alabama           2  \n",
       "4  Alabama           2  "
      ]
     },
     "execution_count": 7,
     "metadata": {},
     "output_type": "execute_result"
    }
   ],
   "source": [
    "def getCritValues(criticalities):\n",
    "    values = []\n",
    "    for crit_str in criticalities:\n",
    "        if crit_str == 'critical':\n",
    "            values.append(0)\n",
    "        elif crit_str == 'major':\n",
    "            values.append(1)\n",
    "        elif crit_str == 'minor':\n",
    "            values.append(2)\n",
    "        elif crit_str == 'lowImpact':\n",
    "            values.append(3)\n",
    "        else:\n",
    "            pass\n",
    "    return values\n",
    "\n",
    "acc_df['Crit_Value'] = getCritValues(acc_df['Criticality'])\n",
    "acc_df.head()"
   ]
  },
  {
   "cell_type": "code",
   "execution_count": 8,
   "metadata": {},
   "outputs": [
    {
     "data": {
      "text/html": [
       "<div>\n",
       "<style scoped>\n",
       "    .dataframe tbody tr th:only-of-type {\n",
       "        vertical-align: middle;\n",
       "    }\n",
       "\n",
       "    .dataframe tbody tr th {\n",
       "        vertical-align: top;\n",
       "    }\n",
       "\n",
       "    .dataframe thead th {\n",
       "        text-align: right;\n",
       "    }\n",
       "</style>\n",
       "<table border=\"1\" class=\"dataframe\">\n",
       "  <thead>\n",
       "    <tr style=\"text-align: right;\">\n",
       "      <th></th>\n",
       "      <th>Population</th>\n",
       "      <th>Density</th>\n",
       "      <th>Area</th>\n",
       "      <th>Accidents</th>\n",
       "      <th>Avg_Criticality</th>\n",
       "    </tr>\n",
       "    <tr>\n",
       "      <th>State</th>\n",
       "      <th></th>\n",
       "      <th></th>\n",
       "      <th></th>\n",
       "      <th></th>\n",
       "      <th></th>\n",
       "    </tr>\n",
       "  </thead>\n",
       "  <tbody>\n",
       "    <tr>\n",
       "      <td>Alabama</td>\n",
       "      <td>4898246</td>\n",
       "      <td>97</td>\n",
       "      <td>50497.381443</td>\n",
       "      <td>9</td>\n",
       "      <td>1.666667</td>\n",
       "    </tr>\n",
       "    <tr>\n",
       "      <td>Alaska</td>\n",
       "      <td>735720</td>\n",
       "      <td>1</td>\n",
       "      <td>735720.000000</td>\n",
       "      <td>0</td>\n",
       "      <td>0.000000</td>\n",
       "    </tr>\n",
       "    <tr>\n",
       "      <td>Arizona</td>\n",
       "      <td>7275070</td>\n",
       "      <td>64</td>\n",
       "      <td>113672.968750</td>\n",
       "      <td>40</td>\n",
       "      <td>0.650000</td>\n",
       "    </tr>\n",
       "    <tr>\n",
       "      <td>Arkansas</td>\n",
       "      <td>3026412</td>\n",
       "      <td>58</td>\n",
       "      <td>52179.517241</td>\n",
       "      <td>11</td>\n",
       "      <td>1.000000</td>\n",
       "    </tr>\n",
       "    <tr>\n",
       "      <td>California</td>\n",
       "      <td>39747267</td>\n",
       "      <td>255</td>\n",
       "      <td>155871.635294</td>\n",
       "      <td>4550</td>\n",
       "      <td>1.989231</td>\n",
       "    </tr>\n",
       "  </tbody>\n",
       "</table>\n",
       "</div>"
      ],
      "text/plain": [
       "            Population  Density           Area  Accidents  Avg_Criticality\n",
       "State                                                                     \n",
       "Alabama        4898246       97   50497.381443          9         1.666667\n",
       "Alaska          735720        1  735720.000000          0         0.000000\n",
       "Arizona        7275070       64  113672.968750         40         0.650000\n",
       "Arkansas       3026412       58   52179.517241         11         1.000000\n",
       "California    39747267      255  155871.635294       4550         1.989231"
      ]
     },
     "execution_count": 8,
     "metadata": {},
     "output_type": "execute_result"
    }
   ],
   "source": [
    "state_group_crit_averages = state_groups['Crit_Value'].mean()\n",
    "state_avg_crit_values = []\n",
    "\n",
    "for state in pop_df.index:\n",
    "    if state in state_group_crit_averages:\n",
    "        state_avg_crit_values.append(state_group_crit_averages[state])\n",
    "    else:\n",
    "        state_avg_crit_values.append(0)\n",
    "\n",
    "pop_df['Avg_Criticality'] = state_avg_crit_values\n",
    "pop_df.head()"
   ]
  },
  {
   "cell_type": "code",
   "execution_count": 9,
   "metadata": {},
   "outputs": [
    {
     "data": {
      "text/plain": [
       "<pandas.core.groupby.generic.DataFrameGroupBy object at 0x000001A51326D7C8>"
      ]
     },
     "execution_count": 9,
     "metadata": {},
     "output_type": "execute_result"
    }
   ],
   "source": [
    "state_crit_groups = acc_df.groupby(['State','Crit_Value'])\n",
    "state_crit_groups"
   ]
  },
  {
   "cell_type": "code",
   "execution_count": 10,
   "metadata": {},
   "outputs": [
    {
     "data": {
      "text/plain": [
       "State          Crit_Value\n",
       "Alabama        0              1\n",
       "               1              1\n",
       "               2              7\n",
       "Arizona        0             24\n",
       "               1              6\n",
       "                             ..\n",
       "West Virginia  0              3\n",
       "               2              1\n",
       "Wisconsin      0              4\n",
       "               1              2\n",
       "               2             10\n",
       "Name: Criticality, Length: 109, dtype: int64"
      ]
     },
     "execution_count": 10,
     "metadata": {},
     "output_type": "execute_result"
    }
   ],
   "source": [
    "state_crit_counts = state_crit_groups['Criticality'].count()\n",
    "state_crit_counts"
   ]
  },
  {
   "cell_type": "code",
   "execution_count": 11,
   "metadata": {
    "scrolled": true
   },
   "outputs": [
    {
     "data": {
      "text/html": [
       "<div>\n",
       "<style scoped>\n",
       "    .dataframe tbody tr th:only-of-type {\n",
       "        vertical-align: middle;\n",
       "    }\n",
       "\n",
       "    .dataframe tbody tr th {\n",
       "        vertical-align: top;\n",
       "    }\n",
       "\n",
       "    .dataframe thead th {\n",
       "        text-align: right;\n",
       "    }\n",
       "</style>\n",
       "<table border=\"1\" class=\"dataframe\">\n",
       "  <thead>\n",
       "    <tr style=\"text-align: right;\">\n",
       "      <th></th>\n",
       "      <th>Population</th>\n",
       "      <th>Density</th>\n",
       "      <th>Area</th>\n",
       "      <th>Accidents</th>\n",
       "      <th>Avg_Criticality</th>\n",
       "      <th>Critical_Count</th>\n",
       "      <th>Major_Count</th>\n",
       "      <th>Minor_Count</th>\n",
       "    </tr>\n",
       "    <tr>\n",
       "      <th>State</th>\n",
       "      <th></th>\n",
       "      <th></th>\n",
       "      <th></th>\n",
       "      <th></th>\n",
       "      <th></th>\n",
       "      <th></th>\n",
       "      <th></th>\n",
       "      <th></th>\n",
       "    </tr>\n",
       "  </thead>\n",
       "  <tbody>\n",
       "    <tr>\n",
       "      <td>Alabama</td>\n",
       "      <td>4898246</td>\n",
       "      <td>97</td>\n",
       "      <td>50497.381443</td>\n",
       "      <td>9</td>\n",
       "      <td>1.666667</td>\n",
       "      <td>1</td>\n",
       "      <td>1</td>\n",
       "      <td>7</td>\n",
       "    </tr>\n",
       "    <tr>\n",
       "      <td>Alaska</td>\n",
       "      <td>735720</td>\n",
       "      <td>1</td>\n",
       "      <td>735720.000000</td>\n",
       "      <td>0</td>\n",
       "      <td>0.000000</td>\n",
       "      <td>0</td>\n",
       "      <td>0</td>\n",
       "      <td>0</td>\n",
       "    </tr>\n",
       "    <tr>\n",
       "      <td>Arizona</td>\n",
       "      <td>7275070</td>\n",
       "      <td>64</td>\n",
       "      <td>113672.968750</td>\n",
       "      <td>40</td>\n",
       "      <td>0.650000</td>\n",
       "      <td>24</td>\n",
       "      <td>6</td>\n",
       "      <td>10</td>\n",
       "    </tr>\n",
       "    <tr>\n",
       "      <td>Arkansas</td>\n",
       "      <td>3026412</td>\n",
       "      <td>58</td>\n",
       "      <td>52179.517241</td>\n",
       "      <td>11</td>\n",
       "      <td>1.000000</td>\n",
       "      <td>2</td>\n",
       "      <td>7</td>\n",
       "      <td>2</td>\n",
       "    </tr>\n",
       "    <tr>\n",
       "      <td>California</td>\n",
       "      <td>39747267</td>\n",
       "      <td>255</td>\n",
       "      <td>155871.635294</td>\n",
       "      <td>4550</td>\n",
       "      <td>1.989231</td>\n",
       "      <td>18</td>\n",
       "      <td>13</td>\n",
       "      <td>4519</td>\n",
       "    </tr>\n",
       "  </tbody>\n",
       "</table>\n",
       "</div>"
      ],
      "text/plain": [
       "            Population  Density           Area  Accidents  Avg_Criticality  \\\n",
       "State                                                                        \n",
       "Alabama        4898246       97   50497.381443          9         1.666667   \n",
       "Alaska          735720        1  735720.000000          0         0.000000   \n",
       "Arizona        7275070       64  113672.968750         40         0.650000   \n",
       "Arkansas       3026412       58   52179.517241         11         1.000000   \n",
       "California    39747267      255  155871.635294       4550         1.989231   \n",
       "\n",
       "            Critical_Count  Major_Count  Minor_Count  \n",
       "State                                                 \n",
       "Alabama                  1            1            7  \n",
       "Alaska                   0            0            0  \n",
       "Arizona                 24            6           10  \n",
       "Arkansas                 2            7            2  \n",
       "California              18           13         4519  "
      ]
     },
     "execution_count": 11,
     "metadata": {},
     "output_type": "execute_result"
    }
   ],
   "source": [
    "critical_incidents = []  # crit_value 0\n",
    "major_incidents = []     # crit_value 1\n",
    "minor_incidents = []     # crit_value 2\n",
    "\n",
    "for state in pop_df.index:\n",
    "    for v in range(3):\n",
    "        key = (state, v)\n",
    "        if key in state_crit_counts.index:\n",
    "            if v == 0:\n",
    "                critical_incidents.append(state_crit_counts[key])\n",
    "            elif v == 1:\n",
    "                major_incidents.append(state_crit_counts[key])\n",
    "            elif v == 2:\n",
    "                minor_incidents.append(state_crit_counts[key])\n",
    "            else:\n",
    "                lowImpact_incidents.append(state_crit_counts[key])\n",
    "        else:\n",
    "            if v == 0:\n",
    "                critical_incidents.append(0)\n",
    "            elif v == 1:\n",
    "                major_incidents.append(0)\n",
    "            elif v == 2:\n",
    "                minor_incidents.append(0)\n",
    "            else:\n",
    "                lowImpact_incidents.append(0)\n",
    "\n",
    "pop_df['Critical_Count'] = critical_incidents\n",
    "pop_df['Major_Count'] = major_incidents\n",
    "pop_df['Minor_Count'] = minor_incidents\n",
    "pop_df.head()"
   ]
  },
  {
   "cell_type": "code",
   "execution_count": 12,
   "metadata": {},
   "outputs": [
    {
     "data": {
      "text/html": [
       "<div>\n",
       "<style scoped>\n",
       "    .dataframe tbody tr th:only-of-type {\n",
       "        vertical-align: middle;\n",
       "    }\n",
       "\n",
       "    .dataframe tbody tr th {\n",
       "        vertical-align: top;\n",
       "    }\n",
       "\n",
       "    .dataframe thead th {\n",
       "        text-align: right;\n",
       "    }\n",
       "</style>\n",
       "<table border=\"1\" class=\"dataframe\">\n",
       "  <thead>\n",
       "    <tr style=\"text-align: right;\">\n",
       "      <th></th>\n",
       "      <th>Population</th>\n",
       "      <th>Density</th>\n",
       "      <th>Area</th>\n",
       "      <th>Accidents</th>\n",
       "      <th>Avg_Criticality</th>\n",
       "      <th>Critical_Count</th>\n",
       "      <th>Major_Count</th>\n",
       "      <th>Minor_Count</th>\n",
       "      <th>Avg_Duration</th>\n",
       "    </tr>\n",
       "    <tr>\n",
       "      <th>State</th>\n",
       "      <th></th>\n",
       "      <th></th>\n",
       "      <th></th>\n",
       "      <th></th>\n",
       "      <th></th>\n",
       "      <th></th>\n",
       "      <th></th>\n",
       "      <th></th>\n",
       "      <th></th>\n",
       "    </tr>\n",
       "  </thead>\n",
       "  <tbody>\n",
       "    <tr>\n",
       "      <td>Alabama</td>\n",
       "      <td>4898246</td>\n",
       "      <td>97</td>\n",
       "      <td>50497.381443</td>\n",
       "      <td>9</td>\n",
       "      <td>1.666667</td>\n",
       "      <td>1</td>\n",
       "      <td>1</td>\n",
       "      <td>7</td>\n",
       "      <td>27.777778</td>\n",
       "    </tr>\n",
       "    <tr>\n",
       "      <td>Alaska</td>\n",
       "      <td>735720</td>\n",
       "      <td>1</td>\n",
       "      <td>735720.000000</td>\n",
       "      <td>0</td>\n",
       "      <td>0.000000</td>\n",
       "      <td>0</td>\n",
       "      <td>0</td>\n",
       "      <td>0</td>\n",
       "      <td>0.000000</td>\n",
       "    </tr>\n",
       "    <tr>\n",
       "      <td>Arizona</td>\n",
       "      <td>7275070</td>\n",
       "      <td>64</td>\n",
       "      <td>113672.968750</td>\n",
       "      <td>40</td>\n",
       "      <td>0.650000</td>\n",
       "      <td>24</td>\n",
       "      <td>6</td>\n",
       "      <td>10</td>\n",
       "      <td>28.910417</td>\n",
       "    </tr>\n",
       "    <tr>\n",
       "      <td>Arkansas</td>\n",
       "      <td>3026412</td>\n",
       "      <td>58</td>\n",
       "      <td>52179.517241</td>\n",
       "      <td>11</td>\n",
       "      <td>1.000000</td>\n",
       "      <td>2</td>\n",
       "      <td>7</td>\n",
       "      <td>2</td>\n",
       "      <td>53.084848</td>\n",
       "    </tr>\n",
       "    <tr>\n",
       "      <td>California</td>\n",
       "      <td>39747267</td>\n",
       "      <td>255</td>\n",
       "      <td>155871.635294</td>\n",
       "      <td>4550</td>\n",
       "      <td>1.989231</td>\n",
       "      <td>18</td>\n",
       "      <td>13</td>\n",
       "      <td>4519</td>\n",
       "      <td>82.832304</td>\n",
       "    </tr>\n",
       "  </tbody>\n",
       "</table>\n",
       "</div>"
      ],
      "text/plain": [
       "            Population  Density           Area  Accidents  Avg_Criticality  \\\n",
       "State                                                                        \n",
       "Alabama        4898246       97   50497.381443          9         1.666667   \n",
       "Alaska          735720        1  735720.000000          0         0.000000   \n",
       "Arizona        7275070       64  113672.968750         40         0.650000   \n",
       "Arkansas       3026412       58   52179.517241         11         1.000000   \n",
       "California    39747267      255  155871.635294       4550         1.989231   \n",
       "\n",
       "            Critical_Count  Major_Count  Minor_Count  Avg_Duration  \n",
       "State                                                               \n",
       "Alabama                  1            1            7     27.777778  \n",
       "Alaska                   0            0            0      0.000000  \n",
       "Arizona                 24            6           10     28.910417  \n",
       "Arkansas                 2            7            2     53.084848  \n",
       "California              18           13         4519     82.832304  "
      ]
     },
     "execution_count": 12,
     "metadata": {},
     "output_type": "execute_result"
    }
   ],
   "source": [
    "state_durations_mins = state_groups['Duration_(seconds)'].mean() / 60\n",
    "state_durations_mins\n",
    "\n",
    "state_durations = []\n",
    "for state in pop_df.index:\n",
    "    if state in state_durations_mins:\n",
    "        state_durations.append(state_durations_mins[state])\n",
    "    else:\n",
    "        state_durations.append(0)\n",
    "\n",
    "pop_df['Avg_Duration'] = state_durations\n",
    "pop_df.head()"
   ]
  },
  {
   "cell_type": "code",
   "execution_count": 17,
   "metadata": {},
   "outputs": [
    {
     "data": {
      "image/png": "[encoded data removed]",
      "text/plain": [
       "<Figure size 1080x432 with 1 Axes>"
      ]
     },
     "metadata": {
      "needs_background": "light"
     },
     "output_type": "display_data"
    }
   ],
   "source": [
    "significant_counts = pop_df['Critical_Count'] + pop_df['Major_Count']\n",
    "\n",
    "plt.figure(figsize=(15,6))\n",
    "plt.bar(pop_df.index, significant_counts)\n",
    "plt.xticks(rotation=90)\n",
    "plt.show()"
   ]
  },
  {
   "cell_type": "code",
   "execution_count": 23,
   "metadata": {},
   "outputs": [
    {
     "data": {
      "image/png": "[encoded data removed]",
      "text/plain": [
       "<Figure size 1080x432 with 1 Axes>"
      ]
     },
     "metadata": {
      "needs_background": "light"
     },
     "output_type": "display_data"
    }
   ],
   "source": [
    "plt.figure(figsize=(15,6))\n",
    "p1 = plt.bar(pop_df.index, pop_df['Major_Count'])\n",
    "p2 = plt.bar(pop_df.index, pop_df['Critical_Count'], bottom=pop_df['Major_Count'])\n",
    "plt.xticks(rotation=90)\n",
    "plt.legend((p2[0], p1[0]), ('Critical', 'Major'))\n",
    "plt.show()"
   ]
  },
  {
   "cell_type": "code",
   "execution_count": 25,
   "metadata": {},
   "outputs": [
    {
     "data": {
      "text/plain": [
       "<function matplotlib.pyplot.show(*args, **kw)>"
      ]
     },
     "execution_count": 25,
     "metadata": {},
     "output_type": "execute_result"
    },
    {
     "data": {
      "image/png": "[encoded data removed]",
      "text/plain": [
       "<Figure size 1080x432 with 1 Axes>"
      ]
     },
     "metadata": {
      "needs_background": "light"
     },
     "output_type": "display_data"
    }
   ],
   "source": [
    "plt.figure(figsize=(15,6))\n",
    "plt.bar(pop_df.index, pop_df['Population'])\n",
    "plt.xticks(rotation=90)\n",
    "plt.show"
   ]
  },
  {
   "cell_type": "code",
   "execution_count": 18,
   "metadata": {},
   "outputs": [
    {
     "data": {
      "text/plain": [
       "<function matplotlib.pyplot.show(*args, **kw)>"
      ]
     },
     "execution_count": 18,
     "metadata": {},
     "output_type": "execute_result"
    },
    {
     "data": {
      "image/png": "[encoded data removed]",
      "text/plain": [
       "<Figure size 1080x432 with 1 Axes>"
      ]
     },
     "metadata": {
      "needs_background": "light"
     },
     "output_type": "display_data"
    }
   ],
   "source": [
    "accs_per_density = significant_counts / pop_df['Density']\n",
    "plt.figure(figsize=(15,6))\n",
    "plt.bar(pop_df.index, accs_per_density)\n",
    "plt.xticks(rotation=90)\n",
    "plt.show"
   ]
  },
  {
   "cell_type": "code",
   "execution_count": 26,
   "metadata": {},
   "outputs": [
    {
     "data": {
      "text/plain": [
       "<function matplotlib.pyplot.show(*args, **kw)>"
      ]
     },
     "execution_count": 26,
     "metadata": {},
     "output_type": "execute_result"
    },
    {
     "data": {
      "image/png": "[encoded data removed]",
      "text/plain": [
       "<Figure size 1080x432 with 1 Axes>"
      ]
     },
     "metadata": {
      "needs_background": "light"
     },
     "output_type": "display_data"
    }
   ],
   "source": [
    "accs_per_area = pop_df['Area'] / significant_counts\n",
    "plt.figure(figsize=(15,6))\n",
    "plt.bar(pop_df.index, accs_per_area)\n",
    "plt.xticks(rotation=90)\n",
    "plt.show"
   ]
  },
  {
   "cell_type": "code",
   "execution_count": null,
   "metadata": {},
   "outputs": [],
   "source": []
  }
 ],
 "metadata": {
  "kernelspec": {
   "display_name": "Python 3",
   "language": "python",
   "name": "python3"
  },
  "language_info": {
   "codemirror_mode": {
    "name": "ipython",
    "version": 3
   },
   "file_extension": ".py",
   "mimetype": "text/x-python",
   "name": "python",
   "nbconvert_exporter": "python",
   "pygments_lexer": "ipython3",
   "version": "3.7.4"
  }
 },
 "nbformat": 4,
 "nbformat_minor": 2
}
