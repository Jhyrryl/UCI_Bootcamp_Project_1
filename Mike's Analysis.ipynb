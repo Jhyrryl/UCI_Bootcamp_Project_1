{
 "cells": [
  {
   "cell_type": "markdown",
   "metadata": {},
   "source": [
    "# Mike's Jupyter Analysis"
   ]
  },
  {
   "cell_type": "code",
   "execution_count": 48,
   "metadata": {},
   "outputs": [],
   "source": [
    "import pandas as pd\n",
    "import matplotlib.pyplot as plt\n",
    "import json\n",
    "from collections import Counter\n",
    "from datetime import datetime\n",
    "import gmaps\n",
    "from config import gkey"
   ]
  },
  {
   "cell_type": "code",
   "execution_count": 3,
   "metadata": {},
   "outputs": [
    {
     "data": {
      "text/html": [
       "<div>\n",
       "<style scoped>\n",
       "    .dataframe tbody tr th:only-of-type {\n",
       "        vertical-align: middle;\n",
       "    }\n",
       "\n",
       "    .dataframe tbody tr th {\n",
       "        vertical-align: top;\n",
       "    }\n",
       "\n",
       "    .dataframe thead th {\n",
       "        text-align: right;\n",
       "    }\n",
       "</style>\n",
       "<table border=\"1\" class=\"dataframe\">\n",
       "  <thead>\n",
       "    <tr style=\"text-align: right;\">\n",
       "      <th></th>\n",
       "      <th>ID</th>\n",
       "      <th>Criticality</th>\n",
       "      <th>Latitude</th>\n",
       "      <th>Longitude</th>\n",
       "      <th>Start_time</th>\n",
       "      <th>End_time</th>\n",
       "      <th>Duration_(seconds)</th>\n",
       "      <th>Vehicle_response</th>\n",
       "      <th>Road_closure</th>\n",
       "      <th>State</th>\n",
       "    </tr>\n",
       "  </thead>\n",
       "  <tbody>\n",
       "    <tr>\n",
       "      <th>0</th>\n",
       "      <td>100372617581716855</td>\n",
       "      <td>minor</td>\n",
       "      <td>33.162394</td>\n",
       "      <td>-87.549211</td>\n",
       "      <td>2019-10-02 03:55:07</td>\n",
       "      <td>2019-10-02 04:25:05</td>\n",
       "      <td>1798</td>\n",
       "      <td>False</td>\n",
       "      <td>False</td>\n",
       "      <td>Alabama</td>\n",
       "    </tr>\n",
       "    <tr>\n",
       "      <th>1</th>\n",
       "      <td>4320793649494536642</td>\n",
       "      <td>critical</td>\n",
       "      <td>32.754060</td>\n",
       "      <td>-86.511290</td>\n",
       "      <td>2019-10-03 18:00:28</td>\n",
       "      <td>2019-10-03 18:30:02</td>\n",
       "      <td>1774</td>\n",
       "      <td>False</td>\n",
       "      <td>True</td>\n",
       "      <td>Alabama</td>\n",
       "    </tr>\n",
       "    <tr>\n",
       "      <th>10</th>\n",
       "      <td>433454766143288697</td>\n",
       "      <td>minor</td>\n",
       "      <td>33.386590</td>\n",
       "      <td>-111.748610</td>\n",
       "      <td>2019-10-01 13:35:15</td>\n",
       "      <td>2019-10-01 14:03:18</td>\n",
       "      <td>1683</td>\n",
       "      <td>False</td>\n",
       "      <td>False</td>\n",
       "      <td>Arizona</td>\n",
       "    </tr>\n",
       "    <tr>\n",
       "      <th>100</th>\n",
       "      <td>483322249055962197</td>\n",
       "      <td>minor</td>\n",
       "      <td>33.928085</td>\n",
       "      <td>-118.340919</td>\n",
       "      <td>2019-10-01 12:47:00</td>\n",
       "      <td>2019-10-01 14:22:59</td>\n",
       "      <td>5759</td>\n",
       "      <td>False</td>\n",
       "      <td>False</td>\n",
       "      <td>California</td>\n",
       "    </tr>\n",
       "    <tr>\n",
       "      <th>1000</th>\n",
       "      <td>176787206817732943</td>\n",
       "      <td>minor</td>\n",
       "      <td>33.856856</td>\n",
       "      <td>-118.028743</td>\n",
       "      <td>2019-10-03 11:32:00</td>\n",
       "      <td>2019-10-03 12:04:01</td>\n",
       "      <td>1921</td>\n",
       "      <td>False</td>\n",
       "      <td>False</td>\n",
       "      <td>California</td>\n",
       "    </tr>\n",
       "  </tbody>\n",
       "</table>\n",
       "</div>"
      ],
      "text/plain": [
       "                       ID Criticality   Latitude   Longitude  \\\n",
       "0      100372617581716855       minor  33.162394  -87.549211   \n",
       "1     4320793649494536642    critical  32.754060  -86.511290   \n",
       "10     433454766143288697       minor  33.386590 -111.748610   \n",
       "100    483322249055962197       minor  33.928085 -118.340919   \n",
       "1000   176787206817732943       minor  33.856856 -118.028743   \n",
       "\n",
       "              Start_time            End_time  Duration_(seconds)  \\\n",
       "0    2019-10-02 03:55:07 2019-10-02 04:25:05                1798   \n",
       "1    2019-10-03 18:00:28 2019-10-03 18:30:02                1774   \n",
       "10   2019-10-01 13:35:15 2019-10-01 14:03:18                1683   \n",
       "100  2019-10-01 12:47:00 2019-10-01 14:22:59                5759   \n",
       "1000 2019-10-03 11:32:00 2019-10-03 12:04:01                1921   \n",
       "\n",
       "      Vehicle_response  Road_closure       State  \n",
       "0                False         False     Alabama  \n",
       "1                False          True     Alabama  \n",
       "10               False         False     Arizona  \n",
       "100              False         False  California  \n",
       "1000             False         False  California  "
      ]
     },
     "execution_count": 3,
     "metadata": {},
     "output_type": "execute_result"
    }
   ],
   "source": [
    "accident_data_path = 'Resources/CleanedData.json'\n",
    "acc_df = pd.read_json(accident_data_path)\n",
    "acc_df.head()"
   ]
  },
  {
   "cell_type": "code",
   "execution_count": 4,
   "metadata": {},
   "outputs": [
    {
     "data": {
      "text/html": [
       "<div>\n",
       "<style scoped>\n",
       "    .dataframe tbody tr th:only-of-type {\n",
       "        vertical-align: middle;\n",
       "    }\n",
       "\n",
       "    .dataframe tbody tr th {\n",
       "        vertical-align: top;\n",
       "    }\n",
       "\n",
       "    .dataframe thead th {\n",
       "        text-align: right;\n",
       "    }\n",
       "</style>\n",
       "<table border=\"1\" class=\"dataframe\">\n",
       "  <thead>\n",
       "    <tr style=\"text-align: right;\">\n",
       "      <th></th>\n",
       "      <th>Population</th>\n",
       "      <th>Density</th>\n",
       "    </tr>\n",
       "    <tr>\n",
       "      <th>State</th>\n",
       "      <th></th>\n",
       "      <th></th>\n",
       "    </tr>\n",
       "  </thead>\n",
       "  <tbody>\n",
       "    <tr>\n",
       "      <th>Alabama</th>\n",
       "      <td>4898246</td>\n",
       "      <td>97</td>\n",
       "    </tr>\n",
       "    <tr>\n",
       "      <th>Alaska</th>\n",
       "      <td>735720</td>\n",
       "      <td>1</td>\n",
       "    </tr>\n",
       "    <tr>\n",
       "      <th>Arizona</th>\n",
       "      <td>7275070</td>\n",
       "      <td>64</td>\n",
       "    </tr>\n",
       "    <tr>\n",
       "      <th>Arkansas</th>\n",
       "      <td>3026412</td>\n",
       "      <td>58</td>\n",
       "    </tr>\n",
       "    <tr>\n",
       "      <th>California</th>\n",
       "      <td>39747267</td>\n",
       "      <td>255</td>\n",
       "    </tr>\n",
       "  </tbody>\n",
       "</table>\n",
       "</div>"
      ],
      "text/plain": [
       "            Population  Density\n",
       "State                          \n",
       "Alabama        4898246       97\n",
       "Alaska          735720        1\n",
       "Arizona        7275070       64\n",
       "Arkansas       3026412       58\n",
       "California    39747267      255"
      ]
     },
     "execution_count": 4,
     "metadata": {},
     "output_type": "execute_result"
    }
   ],
   "source": [
    "population_data_path = 'Resources/state_population.csv'\n",
    "pop_df = pd.read_csv(population_data_path)\n",
    "pop_df.set_index('State', inplace=True)\n",
    "pop_df.sort_values(by='State', inplace=True)\n",
    "pop_df.head()"
   ]
  },
  {
   "cell_type": "code",
   "execution_count": 5,
   "metadata": {},
   "outputs": [
    {
     "data": {
      "text/html": [
       "<div>\n",
       "<style scoped>\n",
       "    .dataframe tbody tr th:only-of-type {\n",
       "        vertical-align: middle;\n",
       "    }\n",
       "\n",
       "    .dataframe tbody tr th {\n",
       "        vertical-align: top;\n",
       "    }\n",
       "\n",
       "    .dataframe thead th {\n",
       "        text-align: right;\n",
       "    }\n",
       "</style>\n",
       "<table border=\"1\" class=\"dataframe\">\n",
       "  <thead>\n",
       "    <tr style=\"text-align: right;\">\n",
       "      <th></th>\n",
       "      <th>Population</th>\n",
       "      <th>Density</th>\n",
       "      <th>Area</th>\n",
       "    </tr>\n",
       "    <tr>\n",
       "      <th>State</th>\n",
       "      <th></th>\n",
       "      <th></th>\n",
       "      <th></th>\n",
       "    </tr>\n",
       "  </thead>\n",
       "  <tbody>\n",
       "    <tr>\n",
       "      <th>Alabama</th>\n",
       "      <td>4898246</td>\n",
       "      <td>97</td>\n",
       "      <td>50497.381443</td>\n",
       "    </tr>\n",
       "    <tr>\n",
       "      <th>Alaska</th>\n",
       "      <td>735720</td>\n",
       "      <td>1</td>\n",
       "      <td>735720.000000</td>\n",
       "    </tr>\n",
       "    <tr>\n",
       "      <th>Arizona</th>\n",
       "      <td>7275070</td>\n",
       "      <td>64</td>\n",
       "      <td>113672.968750</td>\n",
       "    </tr>\n",
       "    <tr>\n",
       "      <th>Arkansas</th>\n",
       "      <td>3026412</td>\n",
       "      <td>58</td>\n",
       "      <td>52179.517241</td>\n",
       "    </tr>\n",
       "    <tr>\n",
       "      <th>California</th>\n",
       "      <td>39747267</td>\n",
       "      <td>255</td>\n",
       "      <td>155871.635294</td>\n",
       "    </tr>\n",
       "  </tbody>\n",
       "</table>\n",
       "</div>"
      ],
      "text/plain": [
       "            Population  Density           Area\n",
       "State                                         \n",
       "Alabama        4898246       97   50497.381443\n",
       "Alaska          735720        1  735720.000000\n",
       "Arizona        7275070       64  113672.968750\n",
       "Arkansas       3026412       58   52179.517241\n",
       "California    39747267      255  155871.635294"
      ]
     },
     "execution_count": 5,
     "metadata": {},
     "output_type": "execute_result"
    }
   ],
   "source": [
    "pop_df['Area'] = pop_df['Population'] / pop_df['Density']\n",
    "pop_df.head()"
   ]
  },
  {
   "cell_type": "code",
   "execution_count": 6,
   "metadata": {
    "scrolled": true
   },
   "outputs": [
    {
     "data": {
      "text/plain": [
       "<pandas.core.groupby.generic.DataFrameGroupBy object at 0x0000015F534EEC88>"
      ]
     },
     "execution_count": 6,
     "metadata": {},
     "output_type": "execute_result"
    }
   ],
   "source": [
    "state_groups = acc_df.groupby(['State'])\n",
    "state_groups"
   ]
  },
  {
   "cell_type": "code",
   "execution_count": 7,
   "metadata": {
    "scrolled": true
   },
   "outputs": [
    {
     "data": {
      "text/html": [
       "<div>\n",
       "<style scoped>\n",
       "    .dataframe tbody tr th:only-of-type {\n",
       "        vertical-align: middle;\n",
       "    }\n",
       "\n",
       "    .dataframe tbody tr th {\n",
       "        vertical-align: top;\n",
       "    }\n",
       "\n",
       "    .dataframe thead th {\n",
       "        text-align: right;\n",
       "    }\n",
       "</style>\n",
       "<table border=\"1\" class=\"dataframe\">\n",
       "  <thead>\n",
       "    <tr style=\"text-align: right;\">\n",
       "      <th></th>\n",
       "      <th>Population</th>\n",
       "      <th>Density</th>\n",
       "      <th>Area</th>\n",
       "      <th>Accidents</th>\n",
       "    </tr>\n",
       "    <tr>\n",
       "      <th>State</th>\n",
       "      <th></th>\n",
       "      <th></th>\n",
       "      <th></th>\n",
       "      <th></th>\n",
       "    </tr>\n",
       "  </thead>\n",
       "  <tbody>\n",
       "    <tr>\n",
       "      <th>Alabama</th>\n",
       "      <td>4898246</td>\n",
       "      <td>97</td>\n",
       "      <td>50497.381443</td>\n",
       "      <td>9</td>\n",
       "    </tr>\n",
       "    <tr>\n",
       "      <th>Alaska</th>\n",
       "      <td>735720</td>\n",
       "      <td>1</td>\n",
       "      <td>735720.000000</td>\n",
       "      <td>0</td>\n",
       "    </tr>\n",
       "    <tr>\n",
       "      <th>Arizona</th>\n",
       "      <td>7275070</td>\n",
       "      <td>64</td>\n",
       "      <td>113672.968750</td>\n",
       "      <td>40</td>\n",
       "    </tr>\n",
       "    <tr>\n",
       "      <th>Arkansas</th>\n",
       "      <td>3026412</td>\n",
       "      <td>58</td>\n",
       "      <td>52179.517241</td>\n",
       "      <td>11</td>\n",
       "    </tr>\n",
       "    <tr>\n",
       "      <th>California</th>\n",
       "      <td>39747267</td>\n",
       "      <td>255</td>\n",
       "      <td>155871.635294</td>\n",
       "      <td>4550</td>\n",
       "    </tr>\n",
       "  </tbody>\n",
       "</table>\n",
       "</div>"
      ],
      "text/plain": [
       "            Population  Density           Area  Accidents\n",
       "State                                                    \n",
       "Alabama        4898246       97   50497.381443          9\n",
       "Alaska          735720        1  735720.000000          0\n",
       "Arizona        7275070       64  113672.968750         40\n",
       "Arkansas       3026412       58   52179.517241         11\n",
       "California    39747267      255  155871.635294       4550"
      ]
     },
     "execution_count": 7,
     "metadata": {},
     "output_type": "execute_result"
    }
   ],
   "source": [
    "state_group_counts = state_groups['ID'].count()\n",
    "state_counts = []\n",
    "\n",
    "for state in pop_df.index:\n",
    "    if state in state_group_counts:\n",
    "        state_counts.append(state_group_counts[state])\n",
    "    else:\n",
    "        state_counts.append(0)\n",
    "\n",
    "pop_df['Accidents'] = state_counts\n",
    "pop_df.head()"
   ]
  },
  {
   "cell_type": "code",
   "execution_count": 49,
   "metadata": {},
   "outputs": [
    {
     "data": {
      "application/vnd.jupyter.widget-view+json": {
       "model_id": "479f483f00194da3bb685945219a6f89",
       "version_major": 2,
       "version_minor": 0
      },
      "text/plain": [
       "Figure(layout=FigureLayout(height='420px'))"
      ]
     },
     "metadata": {},
     "output_type": "display_data"
    }
   ],
   "source": [
    "# Creating a heat map\n",
    "locations = acc_df[[\"Latitude\", \"Longitude\"]]\n",
    "# Plot Heatmap\n",
    "fig =gmaps.figure()\n",
    "\n",
    "# Create heat layer\n",
    "heat_layer = gmaps.heatmap_layer(locations, \n",
    "                                 dissipating=False, max_intensity=3,\n",
    "                                 point_radius=.05)\n",
    "\n",
    "\n",
    "# Add layer\n",
    "fig.add_layer(heat_layer)\n",
    "\n",
    "# Display figure\n",
    "fig"
   ]
  },
  {
   "cell_type": "code",
   "execution_count": 8,
   "metadata": {},
   "outputs": [
    {
     "data": {
      "image/png": "[encoded data removed]",
      "text/plain": [
       "<Figure size 1080x432 with 1 Axes>"
      ]
     },
     "metadata": {
      "needs_background": "light"
     },
     "output_type": "display_data"
    }
   ],
   "source": [
    "plt.figure(figsize=(15,6))\n",
    "plt.bar(pop_df.index, pop_df['Accidents'])\n",
    "plt.xticks(rotation=90)\n",
    "plt.show()"
   ]
  },
  {
   "cell_type": "code",
   "execution_count": 9,
   "metadata": {},
   "outputs": [
    {
     "data": {
      "text/html": [
       "<div>\n",
       "<style scoped>\n",
       "    .dataframe tbody tr th:only-of-type {\n",
       "        vertical-align: middle;\n",
       "    }\n",
       "\n",
       "    .dataframe tbody tr th {\n",
       "        vertical-align: top;\n",
       "    }\n",
       "\n",
       "    .dataframe thead th {\n",
       "        text-align: right;\n",
       "    }\n",
       "</style>\n",
       "<table border=\"1\" class=\"dataframe\">\n",
       "  <thead>\n",
       "    <tr style=\"text-align: right;\">\n",
       "      <th></th>\n",
       "      <th>ID</th>\n",
       "      <th>Criticality</th>\n",
       "      <th>Latitude</th>\n",
       "      <th>Longitude</th>\n",
       "      <th>Start_time</th>\n",
       "      <th>End_time</th>\n",
       "      <th>Duration_(seconds)</th>\n",
       "      <th>Vehicle_response</th>\n",
       "      <th>Road_closure</th>\n",
       "      <th>State</th>\n",
       "      <th>Crit_Value</th>\n",
       "    </tr>\n",
       "  </thead>\n",
       "  <tbody>\n",
       "    <tr>\n",
       "      <th>0</th>\n",
       "      <td>100372617581716855</td>\n",
       "      <td>minor</td>\n",
       "      <td>33.162394</td>\n",
       "      <td>-87.549211</td>\n",
       "      <td>2019-10-02 03:55:07</td>\n",
       "      <td>2019-10-02 04:25:05</td>\n",
       "      <td>1798</td>\n",
       "      <td>False</td>\n",
       "      <td>False</td>\n",
       "      <td>Alabama</td>\n",
       "      <td>2</td>\n",
       "    </tr>\n",
       "    <tr>\n",
       "      <th>1</th>\n",
       "      <td>4320793649494536642</td>\n",
       "      <td>critical</td>\n",
       "      <td>32.754060</td>\n",
       "      <td>-86.511290</td>\n",
       "      <td>2019-10-03 18:00:28</td>\n",
       "      <td>2019-10-03 18:30:02</td>\n",
       "      <td>1774</td>\n",
       "      <td>False</td>\n",
       "      <td>True</td>\n",
       "      <td>Alabama</td>\n",
       "      <td>0</td>\n",
       "    </tr>\n",
       "    <tr>\n",
       "      <th>10</th>\n",
       "      <td>433454766143288697</td>\n",
       "      <td>minor</td>\n",
       "      <td>33.386590</td>\n",
       "      <td>-111.748610</td>\n",
       "      <td>2019-10-01 13:35:15</td>\n",
       "      <td>2019-10-01 14:03:18</td>\n",
       "      <td>1683</td>\n",
       "      <td>False</td>\n",
       "      <td>False</td>\n",
       "      <td>Arizona</td>\n",
       "      <td>2</td>\n",
       "    </tr>\n",
       "    <tr>\n",
       "      <th>100</th>\n",
       "      <td>483322249055962197</td>\n",
       "      <td>minor</td>\n",
       "      <td>33.928085</td>\n",
       "      <td>-118.340919</td>\n",
       "      <td>2019-10-01 12:47:00</td>\n",
       "      <td>2019-10-01 14:22:59</td>\n",
       "      <td>5759</td>\n",
       "      <td>False</td>\n",
       "      <td>False</td>\n",
       "      <td>California</td>\n",
       "      <td>2</td>\n",
       "    </tr>\n",
       "    <tr>\n",
       "      <th>1000</th>\n",
       "      <td>176787206817732943</td>\n",
       "      <td>minor</td>\n",
       "      <td>33.856856</td>\n",
       "      <td>-118.028743</td>\n",
       "      <td>2019-10-03 11:32:00</td>\n",
       "      <td>2019-10-03 12:04:01</td>\n",
       "      <td>1921</td>\n",
       "      <td>False</td>\n",
       "      <td>False</td>\n",
       "      <td>California</td>\n",
       "      <td>2</td>\n",
       "    </tr>\n",
       "  </tbody>\n",
       "</table>\n",
       "</div>"
      ],
      "text/plain": [
       "                       ID Criticality   Latitude   Longitude  \\\n",
       "0      100372617581716855       minor  33.162394  -87.549211   \n",
       "1     4320793649494536642    critical  32.754060  -86.511290   \n",
       "10     433454766143288697       minor  33.386590 -111.748610   \n",
       "100    483322249055962197       minor  33.928085 -118.340919   \n",
       "1000   176787206817732943       minor  33.856856 -118.028743   \n",
       "\n",
       "              Start_time            End_time  Duration_(seconds)  \\\n",
       "0    2019-10-02 03:55:07 2019-10-02 04:25:05                1798   \n",
       "1    2019-10-03 18:00:28 2019-10-03 18:30:02                1774   \n",
       "10   2019-10-01 13:35:15 2019-10-01 14:03:18                1683   \n",
       "100  2019-10-01 12:47:00 2019-10-01 14:22:59                5759   \n",
       "1000 2019-10-03 11:32:00 2019-10-03 12:04:01                1921   \n",
       "\n",
       "      Vehicle_response  Road_closure       State  Crit_Value  \n",
       "0                False         False     Alabama           2  \n",
       "1                False          True     Alabama           0  \n",
       "10               False         False     Arizona           2  \n",
       "100              False         False  California           2  \n",
       "1000             False         False  California           2  "
      ]
     },
     "execution_count": 9,
     "metadata": {},
     "output_type": "execute_result"
    }
   ],
   "source": [
    "def getCritValues(criticalities):\n",
    "    values = []\n",
    "    for crit_str in criticalities:\n",
    "        if crit_str == 'critical':\n",
    "            values.append(0)\n",
    "        elif crit_str == 'major':\n",
    "            values.append(1)\n",
    "        elif crit_str == 'minor':\n",
    "            values.append(2)\n",
    "        elif crit_str == 'lowImpact':\n",
    "            values.append(3)\n",
    "        else:\n",
    "            pass\n",
    "    return values\n",
    "\n",
    "acc_df['Crit_Value'] = getCritValues(acc_df['Criticality'])\n",
    "acc_df.head()"
   ]
  },
  {
   "cell_type": "code",
   "execution_count": 10,
   "metadata": {},
   "outputs": [
    {
     "data": {
      "text/html": [
       "<div>\n",
       "<style scoped>\n",
       "    .dataframe tbody tr th:only-of-type {\n",
       "        vertical-align: middle;\n",
       "    }\n",
       "\n",
       "    .dataframe tbody tr th {\n",
       "        vertical-align: top;\n",
       "    }\n",
       "\n",
       "    .dataframe thead th {\n",
       "        text-align: right;\n",
       "    }\n",
       "</style>\n",
       "<table border=\"1\" class=\"dataframe\">\n",
       "  <thead>\n",
       "    <tr style=\"text-align: right;\">\n",
       "      <th></th>\n",
       "      <th>Population</th>\n",
       "      <th>Density</th>\n",
       "      <th>Area</th>\n",
       "      <th>Accidents</th>\n",
       "      <th>Avg_Criticality</th>\n",
       "    </tr>\n",
       "    <tr>\n",
       "      <th>State</th>\n",
       "      <th></th>\n",
       "      <th></th>\n",
       "      <th></th>\n",
       "      <th></th>\n",
       "      <th></th>\n",
       "    </tr>\n",
       "  </thead>\n",
       "  <tbody>\n",
       "    <tr>\n",
       "      <th>Alabama</th>\n",
       "      <td>4898246</td>\n",
       "      <td>97</td>\n",
       "      <td>50497.381443</td>\n",
       "      <td>9</td>\n",
       "      <td>1.666667</td>\n",
       "    </tr>\n",
       "    <tr>\n",
       "      <th>Alaska</th>\n",
       "      <td>735720</td>\n",
       "      <td>1</td>\n",
       "      <td>735720.000000</td>\n",
       "      <td>0</td>\n",
       "      <td>0.000000</td>\n",
       "    </tr>\n",
       "    <tr>\n",
       "      <th>Arizona</th>\n",
       "      <td>7275070</td>\n",
       "      <td>64</td>\n",
       "      <td>113672.968750</td>\n",
       "      <td>40</td>\n",
       "      <td>0.650000</td>\n",
       "    </tr>\n",
       "    <tr>\n",
       "      <th>Arkansas</th>\n",
       "      <td>3026412</td>\n",
       "      <td>58</td>\n",
       "      <td>52179.517241</td>\n",
       "      <td>11</td>\n",
       "      <td>1.000000</td>\n",
       "    </tr>\n",
       "    <tr>\n",
       "      <th>California</th>\n",
       "      <td>39747267</td>\n",
       "      <td>255</td>\n",
       "      <td>155871.635294</td>\n",
       "      <td>4550</td>\n",
       "      <td>1.989231</td>\n",
       "    </tr>\n",
       "  </tbody>\n",
       "</table>\n",
       "</div>"
      ],
      "text/plain": [
       "            Population  Density           Area  Accidents  Avg_Criticality\n",
       "State                                                                     \n",
       "Alabama        4898246       97   50497.381443          9         1.666667\n",
       "Alaska          735720        1  735720.000000          0         0.000000\n",
       "Arizona        7275070       64  113672.968750         40         0.650000\n",
       "Arkansas       3026412       58   52179.517241         11         1.000000\n",
       "California    39747267      255  155871.635294       4550         1.989231"
      ]
     },
     "execution_count": 10,
     "metadata": {},
     "output_type": "execute_result"
    }
   ],
   "source": [
    "state_group_crit_averages = state_groups['Crit_Value'].mean()\n",
    "state_avg_crit_values = []\n",
    "\n",
    "for state in pop_df.index:\n",
    "    if state in state_group_crit_averages:\n",
    "        state_avg_crit_values.append(state_group_crit_averages[state])\n",
    "    else:\n",
    "        state_avg_crit_values.append(0)\n",
    "\n",
    "pop_df['Avg_Criticality'] = state_avg_crit_values\n",
    "pop_df.head()"
   ]
  },
  {
   "cell_type": "code",
   "execution_count": 11,
   "metadata": {},
   "outputs": [
    {
     "data": {
      "text/plain": [
       "<pandas.core.groupby.generic.DataFrameGroupBy object at 0x0000015F52B7B8D0>"
      ]
     },
     "execution_count": 11,
     "metadata": {},
     "output_type": "execute_result"
    }
   ],
   "source": [
    "state_crit_groups = acc_df.groupby(['State','Crit_Value'])\n",
    "state_crit_groups"
   ]
  },
  {
   "cell_type": "code",
   "execution_count": 12,
   "metadata": {},
   "outputs": [
    {
     "data": {
      "text/plain": [
       "State                 Crit_Value\n",
       "Alabama               0                1\n",
       "                      1                1\n",
       "                      2                7\n",
       "Arizona               0               24\n",
       "                      1                6\n",
       "                      2               10\n",
       "Arkansas              0                2\n",
       "                      1                7\n",
       "                      2                2\n",
       "California            0               18\n",
       "                      1               13\n",
       "                      2             4519\n",
       "Colorado              0                5\n",
       "                      1               26\n",
       "                      2               16\n",
       "Connecticut           0               16\n",
       "                      1                1\n",
       "                      2                9\n",
       "Delaware              0                3\n",
       "                      2                2\n",
       "District of Columbia  1                1\n",
       "Florida               0               34\n",
       "                      1               25\n",
       "                      2               48\n",
       "Georgia               0               24\n",
       "                      1               12\n",
       "                      2               21\n",
       "Idaho                 2                1\n",
       "Illinois              0                3\n",
       "                      1               58\n",
       "                                    ... \n",
       "Oregon                1                4\n",
       "                      2              188\n",
       "Pennsylvania          0                5\n",
       "                      2                3\n",
       "Rhode Island          1                1\n",
       "                      2                9\n",
       "South Carolina        0               12\n",
       "                      1                3\n",
       "                      2                7\n",
       "Tennessee             0                6\n",
       "                      1                4\n",
       "                      2                7\n",
       "Texas                 0                9\n",
       "                      1               32\n",
       "                      2               13\n",
       "Utah                  0                2\n",
       "                      1                4\n",
       "                      2              196\n",
       "Vermont               2                3\n",
       "Virginia              0                6\n",
       "                      1                6\n",
       "                      2                6\n",
       "Washington            0                5\n",
       "                      1                5\n",
       "                      2               26\n",
       "West Virginia         0                3\n",
       "                      2                1\n",
       "Wisconsin             0                4\n",
       "                      1                2\n",
       "                      2               10\n",
       "Name: Criticality, Length: 109, dtype: int64"
      ]
     },
     "execution_count": 12,
     "metadata": {},
     "output_type": "execute_result"
    }
   ],
   "source": [
    "state_crit_counts = state_crit_groups['Criticality'].count()\n",
    "state_crit_counts"
   ]
  },
  {
   "cell_type": "code",
   "execution_count": 13,
   "metadata": {
    "scrolled": true
   },
   "outputs": [
    {
     "data": {
      "text/html": [
       "<div>\n",
       "<style scoped>\n",
       "    .dataframe tbody tr th:only-of-type {\n",
       "        vertical-align: middle;\n",
       "    }\n",
       "\n",
       "    .dataframe tbody tr th {\n",
       "        vertical-align: top;\n",
       "    }\n",
       "\n",
       "    .dataframe thead th {\n",
       "        text-align: right;\n",
       "    }\n",
       "</style>\n",
       "<table border=\"1\" class=\"dataframe\">\n",
       "  <thead>\n",
       "    <tr style=\"text-align: right;\">\n",
       "      <th></th>\n",
       "      <th>Population</th>\n",
       "      <th>Density</th>\n",
       "      <th>Area</th>\n",
       "      <th>Accidents</th>\n",
       "      <th>Avg_Criticality</th>\n",
       "      <th>Critical_Count</th>\n",
       "      <th>Major_Count</th>\n",
       "      <th>Minor_Count</th>\n",
       "    </tr>\n",
       "    <tr>\n",
       "      <th>State</th>\n",
       "      <th></th>\n",
       "      <th></th>\n",
       "      <th></th>\n",
       "      <th></th>\n",
       "      <th></th>\n",
       "      <th></th>\n",
       "      <th></th>\n",
       "      <th></th>\n",
       "    </tr>\n",
       "  </thead>\n",
       "  <tbody>\n",
       "    <tr>\n",
       "      <th>Alabama</th>\n",
       "      <td>4898246</td>\n",
       "      <td>97</td>\n",
       "      <td>50497.381443</td>\n",
       "      <td>9</td>\n",
       "      <td>1.666667</td>\n",
       "      <td>1</td>\n",
       "      <td>1</td>\n",
       "      <td>7</td>\n",
       "    </tr>\n",
       "    <tr>\n",
       "      <th>Alaska</th>\n",
       "      <td>735720</td>\n",
       "      <td>1</td>\n",
       "      <td>735720.000000</td>\n",
       "      <td>0</td>\n",
       "      <td>0.000000</td>\n",
       "      <td>0</td>\n",
       "      <td>0</td>\n",
       "      <td>0</td>\n",
       "    </tr>\n",
       "    <tr>\n",
       "      <th>Arizona</th>\n",
       "      <td>7275070</td>\n",
       "      <td>64</td>\n",
       "      <td>113672.968750</td>\n",
       "      <td>40</td>\n",
       "      <td>0.650000</td>\n",
       "      <td>24</td>\n",
       "      <td>6</td>\n",
       "      <td>10</td>\n",
       "    </tr>\n",
       "    <tr>\n",
       "      <th>Arkansas</th>\n",
       "      <td>3026412</td>\n",
       "      <td>58</td>\n",
       "      <td>52179.517241</td>\n",
       "      <td>11</td>\n",
       "      <td>1.000000</td>\n",
       "      <td>2</td>\n",
       "      <td>7</td>\n",
       "      <td>2</td>\n",
       "    </tr>\n",
       "    <tr>\n",
       "      <th>California</th>\n",
       "      <td>39747267</td>\n",
       "      <td>255</td>\n",
       "      <td>155871.635294</td>\n",
       "      <td>4550</td>\n",
       "      <td>1.989231</td>\n",
       "      <td>18</td>\n",
       "      <td>13</td>\n",
       "      <td>4519</td>\n",
       "    </tr>\n",
       "  </tbody>\n",
       "</table>\n",
       "</div>"
      ],
      "text/plain": [
       "            Population  Density           Area  Accidents  Avg_Criticality  \\\n",
       "State                                                                        \n",
       "Alabama        4898246       97   50497.381443          9         1.666667   \n",
       "Alaska          735720        1  735720.000000          0         0.000000   \n",
       "Arizona        7275070       64  113672.968750         40         0.650000   \n",
       "Arkansas       3026412       58   52179.517241         11         1.000000   \n",
       "California    39747267      255  155871.635294       4550         1.989231   \n",
       "\n",
       "            Critical_Count  Major_Count  Minor_Count  \n",
       "State                                                 \n",
       "Alabama                  1            1            7  \n",
       "Alaska                   0            0            0  \n",
       "Arizona                 24            6           10  \n",
       "Arkansas                 2            7            2  \n",
       "California              18           13         4519  "
      ]
     },
     "execution_count": 13,
     "metadata": {},
     "output_type": "execute_result"
    }
   ],
   "source": [
    "critical_incidents = []  # crit_value 0\n",
    "major_incidents = []     # crit_value 1\n",
    "minor_incidents = []     # crit_value 2\n",
    "\n",
    "for state in pop_df.index:\n",
    "    for v in range(3):\n",
    "        key = (state, v)\n",
    "        if key in state_crit_counts.index:\n",
    "            if v == 0:\n",
    "                critical_incidents.append(state_crit_counts[key])\n",
    "            elif v == 1:\n",
    "                major_incidents.append(state_crit_counts[key])\n",
    "            elif v == 2:\n",
    "                minor_incidents.append(state_crit_counts[key])\n",
    "            else:\n",
    "                lowImpact_incidents.append(state_crit_counts[key])\n",
    "        else:\n",
    "            if v == 0:\n",
    "                critical_incidents.append(0)\n",
    "            elif v == 1:\n",
    "                major_incidents.append(0)\n",
    "            elif v == 2:\n",
    "                minor_incidents.append(0)\n",
    "            else:\n",
    "                lowImpact_incidents.append(0)\n",
    "\n",
    "pop_df['Critical_Count'] = critical_incidents\n",
    "pop_df['Major_Count'] = major_incidents\n",
    "pop_df['Minor_Count'] = minor_incidents\n",
    "pop_df.head()"
   ]
  },
  {
   "cell_type": "code",
   "execution_count": 14,
   "metadata": {},
   "outputs": [
    {
     "data": {
      "text/html": [
       "<div>\n",
       "<style scoped>\n",
       "    .dataframe tbody tr th:only-of-type {\n",
       "        vertical-align: middle;\n",
       "    }\n",
       "\n",
       "    .dataframe tbody tr th {\n",
       "        vertical-align: top;\n",
       "    }\n",
       "\n",
       "    .dataframe thead th {\n",
       "        text-align: right;\n",
       "    }\n",
       "</style>\n",
       "<table border=\"1\" class=\"dataframe\">\n",
       "  <thead>\n",
       "    <tr style=\"text-align: right;\">\n",
       "      <th></th>\n",
       "      <th>Population</th>\n",
       "      <th>Density</th>\n",
       "      <th>Area</th>\n",
       "      <th>Accidents</th>\n",
       "      <th>Avg_Criticality</th>\n",
       "      <th>Critical_Count</th>\n",
       "      <th>Major_Count</th>\n",
       "      <th>Minor_Count</th>\n",
       "      <th>Avg_Duration</th>\n",
       "    </tr>\n",
       "    <tr>\n",
       "      <th>State</th>\n",
       "      <th></th>\n",
       "      <th></th>\n",
       "      <th></th>\n",
       "      <th></th>\n",
       "      <th></th>\n",
       "      <th></th>\n",
       "      <th></th>\n",
       "      <th></th>\n",
       "      <th></th>\n",
       "    </tr>\n",
       "  </thead>\n",
       "  <tbody>\n",
       "    <tr>\n",
       "      <th>Alabama</th>\n",
       "      <td>4898246</td>\n",
       "      <td>97</td>\n",
       "      <td>50497.381443</td>\n",
       "      <td>9</td>\n",
       "      <td>1.666667</td>\n",
       "      <td>1</td>\n",
       "      <td>1</td>\n",
       "      <td>7</td>\n",
       "      <td>27.777778</td>\n",
       "    </tr>\n",
       "    <tr>\n",
       "      <th>Alaska</th>\n",
       "      <td>735720</td>\n",
       "      <td>1</td>\n",
       "      <td>735720.000000</td>\n",
       "      <td>0</td>\n",
       "      <td>0.000000</td>\n",
       "      <td>0</td>\n",
       "      <td>0</td>\n",
       "      <td>0</td>\n",
       "      <td>0.000000</td>\n",
       "    </tr>\n",
       "    <tr>\n",
       "      <th>Arizona</th>\n",
       "      <td>7275070</td>\n",
       "      <td>64</td>\n",
       "      <td>113672.968750</td>\n",
       "      <td>40</td>\n",
       "      <td>0.650000</td>\n",
       "      <td>24</td>\n",
       "      <td>6</td>\n",
       "      <td>10</td>\n",
       "      <td>28.910417</td>\n",
       "    </tr>\n",
       "    <tr>\n",
       "      <th>Arkansas</th>\n",
       "      <td>3026412</td>\n",
       "      <td>58</td>\n",
       "      <td>52179.517241</td>\n",
       "      <td>11</td>\n",
       "      <td>1.000000</td>\n",
       "      <td>2</td>\n",
       "      <td>7</td>\n",
       "      <td>2</td>\n",
       "      <td>53.084848</td>\n",
       "    </tr>\n",
       "    <tr>\n",
       "      <th>California</th>\n",
       "      <td>39747267</td>\n",
       "      <td>255</td>\n",
       "      <td>155871.635294</td>\n",
       "      <td>4550</td>\n",
       "      <td>1.989231</td>\n",
       "      <td>18</td>\n",
       "      <td>13</td>\n",
       "      <td>4519</td>\n",
       "      <td>82.832304</td>\n",
       "    </tr>\n",
       "  </tbody>\n",
       "</table>\n",
       "</div>"
      ],
      "text/plain": [
       "            Population  Density           Area  Accidents  Avg_Criticality  \\\n",
       "State                                                                        \n",
       "Alabama        4898246       97   50497.381443          9         1.666667   \n",
       "Alaska          735720        1  735720.000000          0         0.000000   \n",
       "Arizona        7275070       64  113672.968750         40         0.650000   \n",
       "Arkansas       3026412       58   52179.517241         11         1.000000   \n",
       "California    39747267      255  155871.635294       4550         1.989231   \n",
       "\n",
       "            Critical_Count  Major_Count  Minor_Count  Avg_Duration  \n",
       "State                                                               \n",
       "Alabama                  1            1            7     27.777778  \n",
       "Alaska                   0            0            0      0.000000  \n",
       "Arizona                 24            6           10     28.910417  \n",
       "Arkansas                 2            7            2     53.084848  \n",
       "California              18           13         4519     82.832304  "
      ]
     },
     "execution_count": 14,
     "metadata": {},
     "output_type": "execute_result"
    }
   ],
   "source": [
    "state_durations_mins = state_groups['Duration_(seconds)'].mean() / 60\n",
    "state_durations_mins\n",
    "\n",
    "state_durations = []\n",
    "for state in pop_df.index:\n",
    "    if state in state_durations_mins:\n",
    "        state_durations.append(state_durations_mins[state])\n",
    "    else:\n",
    "        state_durations.append(0)\n",
    "\n",
    "pop_df['Avg_Duration'] = state_durations\n",
    "pop_df.head()"
   ]
  },
  {
   "cell_type": "code",
   "execution_count": 15,
   "metadata": {
    "scrolled": true
   },
   "outputs": [
    {
     "data": {
      "image/png": "[encoded data removed]",
      "text/plain": [
       "<Figure size 1080x432 with 1 Axes>"
      ]
     },
     "metadata": {
      "needs_background": "light"
     },
     "output_type": "display_data"
    }
   ],
   "source": [
    "pop_df['Severe_Count'] = pop_df['Critical_Count'] + pop_df['Major_Count']\n",
    "\n",
    "plt.figure(figsize=(15,6))\n",
    "plt.bar(pop_df.index, pop_df['Severe_Count'])\n",
    "plt.xticks(rotation=90)\n",
    "plt.show()"
   ]
  },
  {
   "cell_type": "code",
   "execution_count": 16,
   "metadata": {},
   "outputs": [
    {
     "data": {
      "image/png": "[encoded data removed]",
      "text/plain": [
       "<Figure size 1080x432 with 1 Axes>"
      ]
     },
     "metadata": {
      "needs_background": "light"
     },
     "output_type": "display_data"
    }
   ],
   "source": [
    "count_sorted_pop_df = pd.DataFrame(pop_df.index)\n",
    "count_sorted_pop_df['Total'] = list(pop_df['Severe_Count'])\n",
    "count_sorted_pop_df['Major_Count'] = list(pop_df['Major_Count'])\n",
    "count_sorted_pop_df['Critical_Count'] = list(pop_df['Critical_Count'])\n",
    "count_sorted_pop_df.set_index('State', inplace=True)\n",
    "count_sorted_pop_df.sort_values(by='Total', ascending=False, inplace=True)\n",
    "plt.figure(figsize=(15,6))\n",
    "plt.bar(count_sorted_pop_df.index, count_sorted_pop_df['Total'])\n",
    "plt.xticks(rotation=90)\n",
    "plt.show()"
   ]
  },
  {
   "cell_type": "code",
   "execution_count": 17,
   "metadata": {
    "scrolled": true
   },
   "outputs": [
    {
     "data": {
      "image/png": "[encoded data removed]",
      "text/plain": [
       "<Figure size 1080x432 with 1 Axes>"
      ]
     },
     "metadata": {
      "needs_background": "light"
     },
     "output_type": "display_data"
    }
   ],
   "source": [
    "plt.figure(figsize=(15,6))\n",
    "p3 = plt.bar(pop_df.index, pop_df['Major_Count'])\n",
    "p4 = plt.bar(pop_df.index, pop_df['Critical_Count'], bottom=pop_df['Major_Count'])\n",
    "plt.xticks(rotation=90)\n",
    "plt.legend((p4[0], p3[0]), ('Critical', 'Major'))\n",
    "plt.show()"
   ]
  },
  {
   "cell_type": "code",
   "execution_count": 18,
   "metadata": {
    "scrolled": true
   },
   "outputs": [
    {
     "data": {
      "image/png": "[encoded data removed]",
      "text/plain": [
       "<Figure size 1080x432 with 1 Axes>"
      ]
     },
     "metadata": {
      "needs_background": "light"
     },
     "output_type": "display_data"
    }
   ],
   "source": [
    "plt.figure(figsize=(15,6))\n",
    "p1 = plt.bar(count_sorted_pop_df.index, count_sorted_pop_df['Major_Count'])\n",
    "p2 = plt.bar(count_sorted_pop_df.index, count_sorted_pop_df['Critical_Count'], bottom=count_sorted_pop_df['Major_Count'])\n",
    "plt.xticks(rotation=90)\n",
    "plt.legend((p2[0], p1[0]), ('Critical', 'Major'))\n",
    "plt.show()"
   ]
  },
  {
   "cell_type": "code",
   "execution_count": 19,
   "metadata": {},
   "outputs": [
    {
     "data": {
      "image/png": "[encoded data removed]",
      "text/plain": [
       "<Figure size 1080x432 with 1 Axes>"
      ]
     },
     "metadata": {
      "needs_background": "light"
     },
     "output_type": "display_data"
    }
   ],
   "source": [
    "count_sorted_pop_df.sort_values(by=['Critical_Count','Major_Count'], ascending=False,  inplace=True)\n",
    "plt.figure(figsize=(15,6))\n",
    "p1 = plt.bar(count_sorted_pop_df.index, count_sorted_pop_df['Major_Count'])\n",
    "p2 = plt.bar(count_sorted_pop_df.index, count_sorted_pop_df['Critical_Count'], bottom=count_sorted_pop_df['Major_Count'])\n",
    "plt.xticks(rotation=90)\n",
    "plt.legend((p2[0], p1[0]), ('Critical', 'Major'))\n",
    "plt.show()"
   ]
  },
  {
   "cell_type": "code",
   "execution_count": 42,
   "metadata": {},
   "outputs": [
    {
     "data": {
      "text/plain": [
       "<BarContainer object of 24 artists>"
      ]
     },
     "execution_count": 42,
     "metadata": {},
     "output_type": "execute_result"
    },
    {
     "data": {
      "image/png": "[encoded data removed]",
      "text/plain": [
       "<Figure size 1080x432 with 1 Axes>"
      ]
     },
     "metadata": {
      "needs_background": "light"
     },
     "output_type": "display_data"
    }
   ],
   "source": [
    "#turn to time of day to datetime\n",
    "datetimeconv=[]\n",
    "time_of_day=[]\n",
    "\n",
    "\n",
    "for times in range(0,len(acc_df)):\n",
    "    datetimeconv.append(datetime.strptime(str(acc_df['Start_time'][times]), '%Y-%m-%d %X'))\n",
    "    time_of_day.append(datetimeconv[times].hour)\n",
    "\n",
    "                       \n",
    "timeofdaydict=dict(Counter(time_of_day))\n",
    "\n",
    "keyss=[]\n",
    "valuess=[]\n",
    "for key in timeofdaydict:\n",
    "    keyss.append(key)\n",
    "    valuess.append(timeofdaydict[key])\n",
    "    \n",
    "f, ax = plt.subplots(figsize=(15,6))\n",
    "plt.bar(keyss,valuess)\n"
   ]
  },
  {
   "cell_type": "code",
   "execution_count": 28,
   "metadata": {},
   "outputs": [
    {
     "data": {
      "text/plain": [
       "Timestamp('2019-10-03 18:00:28')"
      ]
     },
     "execution_count": 28,
     "metadata": {},
     "output_type": "execute_result"
    }
   ],
   "source": []
  },
  {
   "cell_type": "code",
   "execution_count": null,
   "metadata": {},
   "outputs": [],
   "source": []
  }
 ],
 "metadata": {
  "kernelspec": {
   "display_name": "Python 3",
   "language": "python",
   "name": "python3"
  },
  "language_info": {
   "codemirror_mode": {
    "name": "ipython",
    "version": 3
   },
   "file_extension": ".py",
   "mimetype": "text/x-python",
   "name": "python",
   "nbconvert_exporter": "python",
   "pygments_lexer": "ipython3",
   "version": "3.7.3"
  }
 },
 "nbformat": 4,
 "nbformat_minor": 2
}
