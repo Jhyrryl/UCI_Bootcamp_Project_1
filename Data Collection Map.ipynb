{
 "cells": [
  {
   "cell_type": "code",
   "execution_count": 1,
   "metadata": {},
   "outputs": [],
   "source": [
    "import pandas as pd\n",
    "import numpy as np\n",
    "import json\n",
    "import gmaps\n",
    "from config import gkey"
   ]
  },
  {
   "cell_type": "code",
   "execution_count": 2,
   "metadata": {},
   "outputs": [
    {
     "data": {
      "text/html": [
       "<div>\n",
       "<style scoped>\n",
       "    .dataframe tbody tr th:only-of-type {\n",
       "        vertical-align: middle;\n",
       "    }\n",
       "\n",
       "    .dataframe tbody tr th {\n",
       "        vertical-align: top;\n",
       "    }\n",
       "\n",
       "    .dataframe thead th {\n",
       "        text-align: right;\n",
       "    }\n",
       "</style>\n",
       "<table border=\"1\" class=\"dataframe\">\n",
       "  <thead>\n",
       "    <tr style=\"text-align: right;\">\n",
       "      <th></th>\n",
       "      <th>State</th>\n",
       "      <th>Population</th>\n",
       "      <th>Area</th>\n",
       "      <th>Density</th>\n",
       "      <th>Lat</th>\n",
       "      <th>Lng</th>\n",
       "    </tr>\n",
       "    <tr>\n",
       "      <th>City</th>\n",
       "      <th></th>\n",
       "      <th></th>\n",
       "      <th></th>\n",
       "      <th></th>\n",
       "      <th></th>\n",
       "      <th></th>\n",
       "    </tr>\n",
       "  </thead>\n",
       "  <tbody>\n",
       "    <tr>\n",
       "      <td>Birmingham</td>\n",
       "      <td>Alabama</td>\n",
       "      <td>209880</td>\n",
       "      <td>146.1</td>\n",
       "      <td>1452</td>\n",
       "      <td>33.5274</td>\n",
       "      <td>-86.7990</td>\n",
       "    </tr>\n",
       "    <tr>\n",
       "      <td>Huntsville</td>\n",
       "      <td>Alabama</td>\n",
       "      <td>197318</td>\n",
       "      <td>213.4</td>\n",
       "      <td>905</td>\n",
       "      <td>34.6990</td>\n",
       "      <td>-86.6730</td>\n",
       "    </tr>\n",
       "    <tr>\n",
       "      <td>Mobile</td>\n",
       "      <td>Alabama</td>\n",
       "      <td>189572</td>\n",
       "      <td>139.4</td>\n",
       "      <td>1384</td>\n",
       "      <td>30.6684</td>\n",
       "      <td>-88.1002</td>\n",
       "    </tr>\n",
       "    <tr>\n",
       "      <td>Montgomery</td>\n",
       "      <td>Alabama</td>\n",
       "      <td>198218</td>\n",
       "      <td>159.8</td>\n",
       "      <td>1252</td>\n",
       "      <td>32.3472</td>\n",
       "      <td>-86.2661</td>\n",
       "    </tr>\n",
       "    <tr>\n",
       "      <td>Tuscaloosa</td>\n",
       "      <td>Alabama</td>\n",
       "      <td>101113</td>\n",
       "      <td>71.7</td>\n",
       "      <td>1399</td>\n",
       "      <td>33.2065</td>\n",
       "      <td>-87.5346</td>\n",
       "    </tr>\n",
       "  </tbody>\n",
       "</table>\n",
       "</div>"
      ],
      "text/plain": [
       "              State  Population   Area  Density      Lat      Lng\n",
       "City                                                             \n",
       "Birmingham  Alabama      209880  146.1     1452  33.5274 -86.7990\n",
       "Huntsville  Alabama      197318  213.4      905  34.6990 -86.6730\n",
       "Mobile      Alabama      189572  139.4     1384  30.6684 -88.1002\n",
       "Montgomery  Alabama      198218  159.8     1252  32.3472 -86.2661\n",
       "Tuscaloosa  Alabama      101113   71.7     1399  33.2065 -87.5346"
      ]
     },
     "execution_count": 2,
     "metadata": {},
     "output_type": "execute_result"
    }
   ],
   "source": [
    "cities_data_path = 'Resources/top_us_cities_by_population.csv'\n",
    "cities_df = pd.read_csv(cities_data_path)\n",
    "cities_df.set_index('City', inplace=True)\n",
    "cities_df.head()"
   ]
  },
  {
   "cell_type": "code",
   "execution_count": 10,
   "metadata": {},
   "outputs": [],
   "source": [
    "def getKmPerDeg(lng):\n",
    "    if lng < 25:\n",
    "        return 107.6\n",
    "    elif lng < 35:\n",
    "        return 96.5\n",
    "    elif lng < 43:\n",
    "        return 85\n",
    "    elif lng < 55:\n",
    "        return 78.8\n",
    "    elif lng < 70:\n",
    "        return 55.8\n",
    "    else:\n",
    "        return 28.9\n",
    "\n",
    "def getPoint(angle, lat, lng):\n",
    "    rx = 111 / 100                 # 111km per degree of latitude\n",
    "    ry = getKmPerDeg(lng) / 100    # 85km per degree of longitude at 40°N\n",
    "    \n",
    "    x = lat + (rx * np.cos(angle))\n",
    "    y = lng + (ry * np.sin(angle))\n",
    "    return (x, y)\n",
    "\n",
    "def hexadecagon(lat,lng):\n",
    "    points = []\n",
    "    radians = 11.25 * 0.0174533\n",
    "    for i in range(32):\n",
    "        points.append(getPoint(i*radians, lat, lng))\n",
    "    return gmaps.Polygon(points, fill_color=\"blue\")"
   ]
  },
  {
   "cell_type": "code",
   "execution_count": 11,
   "metadata": {
    "scrolled": false
   },
   "outputs": [
    {
     "data": {
      "application/vnd.jupyter.widget-view+json": {
       "model_id": "06705417e19a47cc854a04236e65b0e3",
       "version_major": 2,
       "version_minor": 0
      },
      "text/plain": [
       "Figure(layout=FigureLayout(height='420px'))"
      ]
     },
     "metadata": {},
     "output_type": "display_data"
    }
   ],
   "source": [
    "gmaps.configure(api_key=gkey)\n",
    "fig = gmaps.figure(zoom_level=4, center=(38, -96.8))\n",
    "\n",
    "poly_list = []\n",
    "for ndx, row in cities_df.iterrows():\n",
    "    poly_list.append(hexadecagon(row['Lat'], row['Lng']))\n",
    "    \n",
    "drawing = gmaps.drawing_layer(features=poly_list)\n",
    "fig.add_layer(drawing)\n",
    "fig"
   ]
  },
  {
   "cell_type": "code",
   "execution_count": null,
   "metadata": {},
   "outputs": [],
   "source": []
  }
 ],
 "metadata": {
  "kernelspec": {
   "display_name": "Python 3",
   "language": "python",
   "name": "python3"
  },
  "language_info": {
   "codemirror_mode": {
    "name": "ipython",
    "version": 3
   },
   "file_extension": ".py",
   "mimetype": "text/x-python",
   "name": "python",
   "nbconvert_exporter": "python",
   "pygments_lexer": "ipython3",
   "version": "3.7.4"
  }
 },
 "nbformat": 4,
 "nbformat_minor": 2
}
