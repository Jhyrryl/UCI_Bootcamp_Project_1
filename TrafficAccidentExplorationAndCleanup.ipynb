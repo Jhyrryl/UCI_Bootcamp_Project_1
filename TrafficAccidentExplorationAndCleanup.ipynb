{
 "cells": [
  {
   "cell_type": "markdown",
   "metadata": {},
   "source": [
    "# Traffic Accident Data Exploration and Cleanup"
   ]
  },
  {
   "cell_type": "markdown",
   "metadata": {},
   "source": [
    "Our primary goal was to identify the US states that would most benefit from additional spending on traffic safety. Researching possible APIs to use, we found one that provided historical data on traffic accidents, here.com."
   ]
  },
  {
   "cell_type": "markdown",
   "metadata": {},
   "source": [
    "Experimentation with the API provided no results. A quick search through their Stack Overlow support questions revealed that time-based queries did not work, but that it was possible to get historical data through an official support ticket, which was a level of support we didn't qualify for with their freemium account package."
   ]
  },
  {
   "cell_type": "markdown",
   "metadata": {},
   "source": [
    "This led us to create a data collection script to poll their live API, which was then automated to run every 9 minutes, minus some downtime when the PC was being used for other things. The final query count for our data was a little over 156,000 acquired of approximately 1 week."
   ]
  },
  {
   "cell_type": "markdown",
   "metadata": {},
   "source": [
    "Each query provided a list of accidents within a 100 kilometer radius around a specified latitude and longitude. Since it would not be possible to cover all populations and we were looking to evaluate states against each other, we decided to focus on high-population cities. We found an online list of all US cities with a population greater than 100,000, then added a few additional cities for the five states that lacked them."
   ]
  },
  {
   "cell_type": "markdown",
   "metadata": {},
   "source": [
    "Unfortunately, this led to a great many duplicate entries, and for a variety of reasons.\n",
    "    1. Accidents typically last longer than 9 minutes\n",
    "    2. Our polling locations and radii overllapped\n",
    "    3. Accidents are reported from a variety of sources\n",
    "\n",
    "From the 156,000 JSON files storing our collected data we identified 6,149 distinct accidents."
   ]
  },
  {
   "cell_type": "code",
   "execution_count": null,
   "metadata": {},
   "outputs": [],
   "source": []
  }
 ],
 "metadata": {
  "kernelspec": {
   "display_name": "Python 3",
   "language": "python",
   "name": "python3"
  },
  "language_info": {
   "codemirror_mode": {
    "name": "ipython",
    "version": 3
   },
   "file_extension": ".py",
   "mimetype": "text/x-python",
   "name": "python",
   "nbconvert_exporter": "python",
   "pygments_lexer": "ipython3",
   "version": "3.7.3"
  }
 },
 "nbformat": 4,
 "nbformat_minor": 2
}
